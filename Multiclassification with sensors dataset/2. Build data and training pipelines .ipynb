{
 "cells": [
  {
   "cell_type": "markdown",
   "metadata": {},
   "source": [
    "# Sensors"
   ]
  },
  {
   "cell_type": "markdown",
   "metadata": {},
   "source": [
    "### Install packages"
   ]
  },
  {
   "cell_type": "code",
   "execution_count": 60,
   "metadata": {
    "scrolled": true
   },
   "outputs": [
    {
     "data": {
      "text/html": [
       "Installing package MathNet.Numerics, version 4.9.0........"
      ]
     },
     "metadata": {},
     "output_type": "display_data"
    },
    {
     "data": {
      "text/html": [
       "Installing package Microsoft.ML, version 1.4.0........"
      ]
     },
     "metadata": {},
     "output_type": "display_data"
    }
   ],
   "source": [
    "#r \"nuget:Microsoft.ML,1.4.0\"\n",
    "using XPlot.Plotly;\n",
    "using System;\n",
    "using System.Linq;\n",
    "using Microsoft.ML;\n",
    "using Microsoft.ML.Data;"
   ]
  },
  {
   "cell_type": "markdown",
   "metadata": {},
   "source": [
    "### Declare data models"
   ]
  },
  {
   "cell_type": "code",
   "execution_count": 61,
   "metadata": {},
   "outputs": [],
   "source": [
    "public class ModelInput\n",
    "{\n",
    "    [ColumnName(\"Temperature\"), LoadColumn(0)]\n",
    "    public float Temperature { get; set; }\n",
    "\n",
    "    [ColumnName(\"Luminosity\"), LoadColumn(1)]\n",
    "    public float Luminosity { get; set; }\n",
    "\n",
    "    [ColumnName(\"Infrared\"), LoadColumn(2)]\n",
    "    public float Infrared { get; set; }\n",
    "\n",
    "    [ColumnName(\"Distance\"), LoadColumn(3)]\n",
    "    public float Distance { get; set; }\n",
    "\n",
    "    [ColumnName(\"CreatedAt\"), LoadColumn(4)]\n",
    "    public string CreatedAt { get; set; }\n",
    "\n",
    "    [ColumnName(\"Label\"), LoadColumn(5)]\n",
    "    public string Source { get; set; }\n",
    "}\n",
    "\n",
    "public class ModelOutput\n",
    "{\n",
    "    [ColumnName(\"PredictedLabel\")]\n",
    "    public string PredictedLabel;\n",
    "\n",
    "    [ColumnName(\"Score\")]\n",
    "    public float[] Score;\n",
    "}"
   ]
  },
  {
   "cell_type": "markdown",
   "metadata": {},
   "source": [
    "### Instantiate the ML context"
   ]
  },
  {
   "cell_type": "code",
   "execution_count": 62,
   "metadata": {},
   "outputs": [],
   "source": [
    "private static readonly MLContext mlContext = new MLContext(2020);"
   ]
  },
  {
   "cell_type": "markdown",
   "metadata": {},
   "source": [
    "### Load data"
   ]
  },
  {
   "cell_type": "code",
   "execution_count": 63,
   "metadata": {},
   "outputs": [],
   "source": [
    "private const string DATASET_PATH = \"./sensors_data.csv\";\n",
    "IDataView data = mlContext.Data.LoadFromTextFile<ModelInput>(\n",
    "    path: DATASET_PATH,\n",
    "    hasHeader: true,\n",
    "    separatorChar: ',');"
   ]
  },
  {
   "cell_type": "markdown",
   "metadata": {},
   "source": [
    "### Shuffle and split data to train and test by a fraction of 0.2"
   ]
  },
  {
   "cell_type": "code",
   "execution_count": 64,
   "metadata": {},
   "outputs": [],
   "source": [
    "var shuffledData = mlContext.Data.ShuffleRows(data, seed: 2020);\n",
    "var split = mlContext.Data.TrainTestSplit(shuffledData, testFraction: 0.2);\n",
    "var trainingData = split.TrainSet;\n",
    "var testingData = split.TestSet;"
   ]
  },
  {
   "cell_type": "code",
   "execution_count": 65,
   "metadata": {},
   "outputs": [
    {
     "data": {
      "text/html": [
       "<table><thead><tr><th><i>index</i></th><th>Temperature</th><th>Luminosity</th><th>Infrared</th><th>Distance</th><th>CreatedAt</th><th>Source</th></tr></thead><tbody><tr><td>0</td><td>32.18</td><td>6.84</td><td>0</td><td>28.69</td><td>01/03/2020 10:31:27</td><td>Day</td></tr><tr><td>1</td><td>115</td><td>100</td><td>43.85</td><td>195.19</td><td>01/03/2020 10:26:04</td><td>Lighter</td></tr><tr><td>2</td><td>30.89</td><td>73.44</td><td>0</td><td>24.32</td><td>01/03/2020 10:33:01</td><td>FlashLight</td></tr><tr><td>3</td><td>81.48</td><td>100</td><td>93.46</td><td>400</td><td>01/03/2020 10:27:54</td><td>Lighter</td></tr><tr><td>4</td><td>32.18</td><td>6.64</td><td>0</td><td>76.97</td><td>01/03/2020 10:31:06</td><td>Day</td></tr><tr><td>5</td><td>24.28</td><td>14.45</td><td>0</td><td>17.49</td><td>01/03/2020 10:23:42</td><td>FlashLight</td></tr><tr><td>6</td><td>27.34</td><td>70.02</td><td>0</td><td>193.76</td><td>01/03/2020 10:25:27</td><td>FlashLight</td></tr><tr><td>7</td><td>23.48</td><td>87.6</td><td>0</td><td>343.57</td><td>01/03/2020 10:22:23</td><td>FlashLight</td></tr><tr><td>8</td><td>34.11</td><td>100</td><td>92.38</td><td>7.16</td><td>01/03/2020 10:28:07</td><td>Lighter</td></tr><tr><td>9</td><td>31.86</td><td>57.52</td><td>0</td><td>400</td><td>01/03/2020 10:33:25</td><td>FlashLight</td></tr></tbody></table>"
      ]
     },
     "metadata": {},
     "output_type": "display_data"
    }
   ],
   "source": [
    "var features = mlContext.Data.CreateEnumerable<ModelInput>(trainingData, true);\n",
    "display(features.Take(10)); // be carefull here not to display the entire dataset"
   ]
  },
  {
   "cell_type": "markdown",
   "metadata": {},
   "source": [
    "### Categories"
   ]
  },
  {
   "cell_type": "code",
   "execution_count": 66,
   "metadata": {},
   "outputs": [
    {
     "data": {
      "text/html": [
       "<div id=\"a937b15d-9792-4f54-9e8d-c3cd03f0cafc\" style=\"width: 900px; height: 500px;\"></div>\r\n",
       "<script type=\"text/javascript\">\r\n",
       "\r\n",
       "var renderPlotly = function() {\r\n",
       "    var xplotRequire = requirejs.config({context:'xplot-3.0.1',paths:{plotly:'https://cdn.plot.ly/plotly-1.49.2.min'}});\r\n",
       "    xplotRequire(['plotly'], function(Plotly) {\r\n",
       "\n",
       "            var data = [{\"type\":\"histogram\",\"x\":[\"Day\",\"Lighter\",\"FlashLight\",\"Lighter\",\"Day\",\"FlashLight\",\"FlashLight\",\"FlashLight\",\"Lighter\",\"FlashLight\",\"Infrared\",\"Day\",\"Lighter\",\"Infrared\",\"Day\",\"Day\",\"Lighter\",\"Lighter\",\"FlashLight\",\"Lighter\",\"FlashLight\",\"FlashLight\",\"FlashLight\",\"FlashLight\",\"Day\",\"Infrared\",\"Lighter\",\"Lighter\",\"Day\",\"Lighter\",\"Lighter\",\"Lighter\",\"Infrared\",\"FlashLight\",\"FlashLight\",\"Infrared\",\"Day\",\"FlashLight\",\"Infrared\",\"FlashLight\",\"Lighter\",\"FlashLight\",\"Day\",\"FlashLight\",\"FlashLight\",\"FlashLight\",\"FlashLight\",\"Infrared\",\"FlashLight\",\"Lighter\",\"Infrared\",\"Day\",\"FlashLight\",\"Day\",\"Day\",\"Lighter\",\"Day\",\"Infrared\",\"Infrared\",\"Infrared\",\"FlashLight\",\"Day\",\"FlashLight\",\"Infrared\",\"FlashLight\",\"Infrared\",\"FlashLight\",\"Lighter\",\"Day\",\"Infrared\",\"Infrared\",\"Infrared\",\"FlashLight\",\"Day\",\"Day\",\"Day\",\"Day\",\"FlashLight\",\"Day\",\"FlashLight\",\"Day\",\"FlashLight\",\"Day\",\"FlashLight\",\"FlashLight\",\"FlashLight\",\"FlashLight\",\"Day\",\"Day\",\"FlashLight\",\"Day\",\"Infrared\",\"FlashLight\",\"FlashLight\",\"Infrared\",\"FlashLight\",\"Infrared\",\"Day\",\"FlashLight\",\"Day\",\"Day\",\"FlashLight\",\"FlashLight\",\"FlashLight\",\"Lighter\",\"Day\",\"FlashLight\",\"Day\",\"Day\",\"Day\",\"Day\",\"Lighter\",\"Day\",\"Day\",\"Day\",\"FlashLight\",\"Day\",\"FlashLight\",\"Day\",\"FlashLight\",\"Infrared\",\"Day\",\"Day\",\"Day\",\"FlashLight\",\"FlashLight\",\"Day\",\"Infrared\",\"FlashLight\",\"Day\",\"Day\",\"FlashLight\",\"Lighter\",\"Infrared\",\"Infrared\",\"Infrared\",\"FlashLight\",\"Lighter\",\"Day\",\"FlashLight\",\"FlashLight\",\"Day\",\"Day\",\"Day\",\"FlashLight\",\"Infrared\",\"FlashLight\",\"Day\",\"FlashLight\",\"FlashLight\",\"Lighter\",\"FlashLight\",\"Infrared\",\"Infrared\",\"Lighter\",\"Infrared\",\"Lighter\",\"FlashLight\",\"Infrared\",\"Day\",\"FlashLight\",\"FlashLight\",\"Lighter\",\"FlashLight\",\"Day\",\"Infrared\",\"Day\",\"Infrared\",\"Day\",\"Day\",\"FlashLight\",\"FlashLight\",\"FlashLight\",\"Day\",\"Lighter\",\"Infrared\",\"FlashLight\",\"Infrared\",\"FlashLight\",\"Lighter\",\"Lighter\",\"FlashLight\",\"Day\",\"FlashLight\",\"Day\",\"FlashLight\",\"Lighter\",\"Day\",\"FlashLight\",\"Infrared\",\"FlashLight\",\"Lighter\",\"Day\",\"FlashLight\",\"FlashLight\",\"Day\",\"Lighter\",\"FlashLight\",\"Day\",\"FlashLight\",\"Infrared\",\"Day\",\"Day\",\"Lighter\",\"FlashLight\",\"Day\",\"Lighter\",\"FlashLight\",\"Infrared\",\"Lighter\",\"FlashLight\",\"FlashLight\",\"FlashLight\",\"FlashLight\",\"Lighter\",\"Infrared\",\"Day\",\"FlashLight\",\"Infrared\",\"FlashLight\",\"FlashLight\",\"Day\",\"Lighter\",\"Infrared\",\"Day\",\"Infrared\",\"Day\",\"Lighter\",\"Infrared\",\"Infrared\",\"Day\",\"Lighter\",\"Lighter\",\"Day\",\"Day\",\"FlashLight\",\"Day\",\"FlashLight\",\"Day\",\"Day\",\"Day\",\"Day\",\"Infrared\",\"Lighter\",\"Day\",\"FlashLight\",\"FlashLight\",\"Lighter\",\"Infrared\",\"Infrared\",\"FlashLight\",\"Lighter\",\"FlashLight\",\"Infrared\",\"FlashLight\",\"Lighter\",\"FlashLight\",\"FlashLight\",\"Day\",\"Lighter\",\"Day\",\"Infrared\",\"FlashLight\",\"FlashLight\",\"FlashLight\",\"Day\",\"FlashLight\",\"Lighter\",\"FlashLight\",\"FlashLight\",\"FlashLight\",\"Day\",\"Infrared\",\"Infrared\",\"Infrared\",\"Lighter\",\"FlashLight\",\"FlashLight\",\"FlashLight\",\"Lighter\",\"Infrared\",\"Day\",\"Infrared\",\"Day\",\"FlashLight\",\"Infrared\",\"Day\",\"Infrared\",\"FlashLight\",\"Day\",\"Day\",\"Lighter\",\"Day\",\"FlashLight\",\"Day\",\"Day\",\"FlashLight\",\"Infrared\",\"FlashLight\",\"Day\",\"Infrared\",\"FlashLight\",\"Infrared\",\"FlashLight\",\"Lighter\",\"Day\",\"Infrared\",\"Lighter\",\"Day\",\"FlashLight\",\"FlashLight\",\"Day\",\"FlashLight\",\"FlashLight\",\"Day\",\"Day\",\"Day\",\"Day\",\"FlashLight\",\"Day\",\"Infrared\",\"Lighter\",\"Day\",\"Lighter\",\"Infrared\",\"Lighter\",\"Infrared\",\"Lighter\",\"Infrared\",\"Infrared\",\"FlashLight\",\"Infrared\",\"Infrared\",\"FlashLight\",\"Day\",\"Day\",\"FlashLight\",\"FlashLight\",\"FlashLight\",\"FlashLight\",\"Infrared\",\"Lighter\",\"Lighter\",\"Day\",\"Infrared\",\"Day\",\"FlashLight\",\"Day\",\"Day\",\"Day\",\"Lighter\",\"FlashLight\",\"FlashLight\",\"FlashLight\",\"Day\",\"FlashLight\",\"Infrared\",\"FlashLight\",\"FlashLight\",\"Infrared\",\"FlashLight\",\"Infrared\",\"FlashLight\",\"Lighter\",\"FlashLight\",\"Day\",\"Infrared\",\"FlashLight\",\"Infrared\",\"FlashLight\",\"FlashLight\",\"Day\",\"Infrared\",\"FlashLight\",\"FlashLight\",\"Day\",\"FlashLight\",\"FlashLight\",\"Day\",\"FlashLight\",\"Lighter\",\"Day\",\"Infrared\",\"FlashLight\",\"FlashLight\",\"FlashLight\",\"Day\",\"FlashLight\",\"Day\",\"Day\",\"Day\",\"Lighter\",\"FlashLight\",\"FlashLight\",\"FlashLight\",\"Lighter\",\"Day\",\"Day\",\"Day\",\"Day\",\"Lighter\",\"Day\",\"Day\",\"Day\",\"Infrared\",\"Lighter\",\"Infrared\",\"FlashLight\",\"FlashLight\",\"Lighter\",\"FlashLight\",\"Day\",\"FlashLight\",\"Infrared\",\"Day\",\"Lighter\",\"FlashLight\",\"Lighter\",\"Lighter\",\"Lighter\",\"FlashLight\",\"FlashLight\",\"Infrared\",\"FlashLight\",\"FlashLight\",\"Day\",\"Infrared\",\"FlashLight\",\"Day\",\"FlashLight\",\"Infrared\",\"Infrared\",\"Infrared\",\"Lighter\",\"FlashLight\",\"Day\",\"Day\",\"FlashLight\",\"FlashLight\",\"FlashLight\",\"FlashLight\",\"Day\",\"Day\",\"Lighter\",\"FlashLight\",\"FlashLight\",\"Day\",\"Day\",\"FlashLight\",\"Infrared\",\"Infrared\",\"Day\",\"FlashLight\",\"Lighter\",\"Day\",\"FlashLight\",\"FlashLight\",\"FlashLight\",\"FlashLight\",\"FlashLight\",\"Infrared\",\"FlashLight\",\"Day\",\"Lighter\",\"Day\",\"Day\",\"Lighter\",\"FlashLight\",\"Infrared\",\"Lighter\",\"FlashLight\",\"Lighter\",\"Day\",\"Infrared\",\"Infrared\",\"Infrared\",\"Day\",\"FlashLight\",\"Lighter\",\"Lighter\",\"FlashLight\",\"FlashLight\",\"Lighter\",\"Day\",\"Infrared\",\"Infrared\",\"Day\",\"Infrared\",\"Infrared\",\"FlashLight\",\"Infrared\",\"FlashLight\",\"Day\",\"FlashLight\",\"Infrared\",\"Lighter\",\"Day\",\"Lighter\",\"FlashLight\",\"Infrared\",\"FlashLight\",\"Day\",\"FlashLight\",\"Lighter\",\"FlashLight\",\"FlashLight\",\"Day\",\"FlashLight\",\"Lighter\",\"FlashLight\",\"Lighter\",\"FlashLight\",\"Lighter\",\"Day\",\"Day\",\"Lighter\",\"FlashLight\",\"FlashLight\",\"Infrared\",\"Day\",\"FlashLight\",\"FlashLight\",\"FlashLight\",\"Infrared\",\"Infrared\",\"FlashLight\",\"Day\",\"Lighter\",\"Day\",\"Infrared\",\"FlashLight\",\"Day\",\"FlashLight\",\"Day\",\"Lighter\",\"Lighter\",\"Infrared\",\"FlashLight\",\"FlashLight\",\"FlashLight\",\"FlashLight\",\"Day\",\"Infrared\",\"Day\",\"Day\",\"FlashLight\",\"Day\",\"FlashLight\",\"Day\",\"FlashLight\",\"FlashLight\",\"Day\",\"FlashLight\",\"Day\",\"Infrared\",\"Infrared\",\"FlashLight\",\"Day\",\"Day\",\"Infrared\",\"Infrared\",\"Lighter\",\"Lighter\",\"Day\",\"Infrared\",\"FlashLight\",\"FlashLight\",\"Day\",\"Day\",\"FlashLight\",\"FlashLight\",\"FlashLight\",\"Infrared\",\"FlashLight\",\"FlashLight\",\"FlashLight\",\"Infrared\",\"Infrared\",\"Day\",\"FlashLight\",\"Day\",\"Infrared\",\"Lighter\",\"FlashLight\",\"FlashLight\",\"Lighter\",\"FlashLight\",\"Day\",\"Infrared\",\"Lighter\",\"FlashLight\",\"FlashLight\",\"Day\",\"FlashLight\",\"Day\",\"FlashLight\",\"FlashLight\",\"FlashLight\",\"Infrared\",\"FlashLight\",\"Day\",\"FlashLight\",\"FlashLight\",\"Lighter\",\"FlashLight\",\"FlashLight\",\"Lighter\",\"FlashLight\",\"FlashLight\",\"Lighter\",\"Infrared\",\"Infrared\",\"Infrared\",\"Day\",\"FlashLight\",\"Day\",\"Lighter\",\"Day\",\"FlashLight\",\"Day\",\"Lighter\",\"Lighter\",\"Lighter\",\"Day\",\"FlashLight\",\"Infrared\",\"FlashLight\",\"FlashLight\",\"Infrared\",\"Day\",\"Day\",\"Lighter\",\"FlashLight\",\"Day\",\"Day\",\"FlashLight\",\"Day\",\"Day\",\"FlashLight\",\"Lighter\",\"FlashLight\",\"Day\",\"FlashLight\",\"Day\",\"Lighter\",\"FlashLight\",\"Day\",\"FlashLight\",\"Infrared\",\"Lighter\",\"Day\",\"Day\",\"Infrared\"]}];\n",
       "            var layout = \"\";\n",
       "            Plotly.newPlot('a937b15d-9792-4f54-9e8d-c3cd03f0cafc', data, layout);\n",
       "        \r\n",
       "});\r\n",
       "};\r\n",
       "if ((typeof(requirejs) !==  typeof(Function)) || (typeof(requirejs.config) !== typeof(Function))) { \r\n",
       "    var script = document.createElement(\"script\"); \r\n",
       "    script.setAttribute(\"src\", \"https://cdnjs.cloudflare.com/ajax/libs/require.js/2.3.6/require.min.js\"); \r\n",
       "    script.onload = function(){\r\n",
       "        renderPlotly();\r\n",
       "    };\r\n",
       "    document.getElementsByTagName(\"head\")[0].appendChild(script); \r\n",
       "}\r\n",
       "else {\r\n",
       "    renderPlotly();\r\n",
       "}\r\n",
       "</script>\r\n"
      ]
     },
     "metadata": {},
     "output_type": "display_data"
    }
   ],
   "source": [
    "var categories = trainingData.GetColumn<string>(\"Label\");\n",
    "var categoriesHistogram = Chart.Plot(\n",
    "    new Graph.Histogram \n",
    "    {\n",
    "        x = categories\n",
    "    }\n",
    ");\n",
    "display(categoriesHistogram);"
   ]
  },
  {
   "cell_type": "markdown",
   "metadata": {},
   "source": [
    "### Plot diagram"
   ]
  },
  {
   "cell_type": "code",
   "execution_count": 67,
   "metadata": {},
   "outputs": [
    {
     "data": {
      "text/html": [
       "<div id=\"c8f60588-572a-444e-afd3-8fd6beb8bcc4\" style=\"width: 900px; height: 500px;\"></div>\r\n",
       "<script type=\"text/javascript\">\r\n",
       "\r\n",
       "var renderPlotly = function() {\r\n",
       "    var xplotRequire = requirejs.config({context:'xplot-3.0.1',paths:{plotly:'https://cdn.plot.ly/plotly-1.49.2.min'}});\r\n",
       "    xplotRequire(['plotly'], function(Plotly) {\r\n",
       "\n",
       "            var data = [{\"type\":\"box\",\"y\":[32.18,115.0,30.89,81.48,32.18,24.28,27.34,23.48,34.11,31.86,30.24,32.18,53.12,32.18,24.63,23.63,33.47,32.18,32.5,36.04,27.34,52.8,24.44,23.8,32.18,29.92,37.98,94.05,32.18,74.72,43.13,108.55,30.89,30.89,32.5,30.24,25.41,23.48,30.24,32.5,61.5,32.5,32.18,31.21,31.21,32.18,32.5,26.38,27.34,36.69,30.24,24.44,31.86,32.18,25.41,32.5,24.77,26.7,26.38,24.31,23.96,23.96,23.28,25.09,32.18,32.18,32.5,115.0,24.77,25.41,32.5,32.18,32.18,25.09,32.18,24.44,24.63,31.21,25.09,27.67,25.41,32.5,24.86,23.96,31.86,31.21,24.44,23.63,25.09,32.18,24.44,30.24,31.86,32.18,30.24,32.5,25.89,25.63,23.28,25.09,25.41,24.44,27.34,32.18,50.55,32.18,27.34,32.18,24.77,25.09,25.09,87.29,32.18,24.82,24.44,32.5,32.18,24.12,25.09,31.21,30.57,32.18,25.09,25.09,41.2,32.5,32.18,25.89,32.5,24.44,32.18,24.14,36.69,32.18,32.18,26.38,25.14,33.14,24.63,34.43,24.77,32.18,24.12,24.77,31.53,25.09,32.5,32.18,23.8,30.89,64.38,27.67,30.24,32.18,88.9,32.18,92.12,31.86,32.5,25.09,32.5,32.18,66.98,24.14,32.18,32.5,25.09,32.5,32.18,24.63,31.21,27.34,27.34,25.09,70.85,25.09,31.21,30.24,32.5,47.32,65.05,31.53,24.44,27.67,32.18,67.63,35.4,25.09,24.44,30.24,32.18,101.79,32.18,24.12,24.77,24.77,50.87,32.5,32.18,32.18,30.24,32.18,32.18,97.28,32.5,25.09,42.81,32.18,30.24,76.65,32.18,32.18,32.5,32.18,38.95,31.21,32.18,32.5,32.5,24.44,24.14,32.18,119.51,32.18,24.77,26.38,24.63,37.01,30.24,25.09,32.18,47.97,81.81,32.5,24.44,24.44,25.09,32.18,24.44,32.18,25.09,25.09,30.24,32.5,24.44,31.21,32.18,58.6,30.24,32.18,27.67,100.82,23.48,30.24,23.28,35.08,52.8,28.96,24.77,34.11,32.18,25.41,32.18,31.86,32.5,25.09,27.67,49.26,31.86,23.96,32.18,24.44,30.24,24.77,30.24,69.56,31.86,32.18,31.21,110.49,24.38,32.18,32.18,24.5,34.43,32.5,24.77,25.89,23.28,32.18,32.18,85.67,32.5,27.34,32.18,32.18,28.63,32.5,32.5,25.09,25.09,24.44,25.41,24.44,56.03,32.18,30.24,44.75,25.09,31.86,24.77,25.09,24.92,32.18,24.44,25.09,25.09,25.09,23.28,24.44,26.38,64.05,25.09,36.04,25.09,90.19,32.5,73.11,32.18,25.89,24.31,25.21,30.24,27.67,25.41,32.18,24.14,27.34,23.28,32.5,26.38,32.82,56.03,32.5,29.6,32.18,34.11,32.18,25.09,25.09,35.08,36.37,27.34,27.67,32.18,31.53,25.09,31.21,32.82,29.92,32.18,30.24,23.28,55.7,23.28,32.18,32.18,27.67,32.18,23.48,24.12,32.18,29.92,31.53,24.77,24.63,32.5,32.5,32.18,32.5,102.43,32.18,25.89,23.48,32.5,27.67,32.18,31.86,32.18,32.18,32.18,89.22,32.5,24.77,23.48,34.43,32.18,32.18,24.63,25.09,24.28,25.09,24.12,24.44,30.24,33.47,26.38,23.48,24.77,47.32,32.5,24.77,31.21,30.24,32.18,36.37,31.86,88.9,90.83,132.4,24.77,33.14,25.41,23.28,24.77,24.6,30.24,32.5,32.18,27.99,32.18,32.5,25.09,64.05,23.48,32.18,32.18,27.34,31.86,32.18,32.5,32.18,25.09,157.22,31.86,32.18,23.63,25.09,27.67,32.18,32.18,32.18,32.5,74.07,32.18,27.34,23.8,32.5,32.5,24.77,32.18,32.5,32.18,109.2,32.5,32.18,48.94,32.5,29.92,36.37,23.8,36.04,25.09,30.24,29.92,30.24,32.18,32.5,36.37,96.31,27.67,31.86,89.54,32.18,32.18,32.5,24.77,32.18,29.92,23.96,30.24,46.68,34.76,32.5,32.18,132.4,32.18,35.4,27.34,30.24,56.99,24.77,32.18,64.05,24.12,24.44,25.09,27.67,82.77,25.82,95.34,23.48,36.37,25.09,24.77,64.92,27.34,32.5,32.18,24.44,27.67,32.18,32.5,30.24,25.09,27.34,25.09,32.18,24.44,32.18,32.5,24.44,23.28,32.18,36.69,99.53,30.24,31.53,24.14,23.28,27.34,25.09,25.41,32.18,32.18,34.11,24.77,32.18,24.44,27.34,27.34,32.18,32.5,24.77,30.24,26.38,27.34,24.44,24.77,30.24,30.24,153.35,107.59,32.18,30.89,27.34,24.82,25.09,32.18,31.86,32.5,31.21,25.09,32.18,32.82,24.12,29.92,30.89,24.44,32.5,31.86,29.92,65.37,32.5,32.5,45.07,31.86,32.18,32.18,52.16,27.34,27.34,24.77,32.5,24.44,32.18,34.11,31.86,32.5,32.18,32.18,32.5,27.34,25.57,24.14,23.28,61.83,32.5,24.14,36.37,24.38,30.24,32.5,32.18,31.86,23.63,64.96,24.44,24.28,32.18,95.02,53.77,96.63,25.09,32.18,25.09,24.77,27.34,30.24,24.44,24.44,34.43,31.21,24.77,32.18,32.5,32.18,24.44,32.18,98.24,32.18,25.63,32.5,24.63,86.96,24.12,23.63,32.5,30.24,98.24,25.09,25.09,24.77],\"name\":\"Temperature\"},{\"type\":\"box\",\"y\":[6.84,100.0,73.44,100.0,6.64,14.45,70.02,87.6,100.0,57.52,11.13,4.39,100.0,29.79,5.37,4.2,100.0,100.0,100.0,100.0,71.88,100.0,100.0,66.41,7.32,30.08,100.0,100.0,5.08,100.0,100.0,100.0,24.41,74.41,50.78,41.31,11.91,79.0,41.7,95.31,100.0,72.75,6.15,56.64,5.47,41.6,61.33,21.09,74.32,100.0,31.64,12.6,68.46,5.86,9.28,100.0,12.5,19.14,21.97,18.75,10.64,4.1,100.0,35.16,37.11,17.19,64.84,100.0,8.2,35.06,12.6,12.5,54.39,12.21,14.55,25.78,4.1,42.58,12.3,75.59,11.43,54.39,7.03,9.08,53.61,74.9,82.32,4.1,12.89,52.05,26.46,29.3,85.06,64.16,18.65,85.84,25.59,4.1,61.62,12.6,11.33,63.18,73.54,32.23,100.0,5.37,73.83,4.98,13.48,12.4,12.01,100.0,5.86,6.54,25.88,54.79,6.64,79.49,11.91,60.16,25.78,6.15,12.79,12.11,100.0,60.55,4.39,24.9,85.84,25.98,6.05,50.29,100.0,35.35,15.04,22.75,49.32,100.0,4.1,100.0,87.11,4.3,24.9,14.06,86.72,35.94,73.14,4.39,88.67,52.44,100.0,75.0,31.64,11.72,100.0,24.9,100.0,100.0,28.81,11.91,60.64,55.86,100.0,100.0,6.05,34.47,12.99,37.89,4.88,4.1,69.14,75.29,71.48,12.21,100.0,35.45,33.89,26.56,91.41,100.0,100.0,68.07,25.49,73.63,5.27,100.0,100.0,11.91,83.5,23.83,46.19,100.0,19.73,81.54,63.96,10.74,100.0,88.38,6.35,17.68,32.71,4.98,4.1,100.0,72.07,12.01,100.0,57.81,27.05,100.0,68.46,78.91,69.24,65.72,100.0,36.33,5.37,88.28,19.34,95.61,62.4,5.27,100.0,31.74,25.59,21.0,4.0,100.0,20.51,35.74,6.54,100.0,100.0,4.49,25.39,80.27,13.18,50.0,25.88,4.49,12.11,12.4,24.32,100.0,26.46,63.77,72.66,100.0,33.59,32.23,71.78,100.0,93.16,35.94,39.94,100.0,100.0,6.54,12.3,100.0,4.49,35.06,100.0,49.12,57.03,12.11,75.59,100.0,60.16,7.71,42.58,25.78,21.97,36.62,29.2,100.0,45.12,100.0,34.67,100.0,19.73,6.84,35.64,8.11,100.0,22.75,25.59,34.18,54.1,6.25,4.49,100.0,4.59,73.34,7.62,4.69,74.9,31.54,56.93,11.91,35.45,67.58,36.52,89.55,100.0,4.39,29.69,88.77,13.09,100.0,89.26,12.5,45.7,61.13,25.98,11.33,11.82,12.3,66.5,25.49,23.44,82.32,12.11,100.0,35.94,100.0,27.44,100.0,30.96,24.51,37.99,33.69,28.52,75.0,11.82,6.25,40.82,73.73,57.32,75.78,18.36,100.0,100.0,19.43,10.06,5.66,100.0,25.1,12.4,12.11,100.0,100.0,70.7,73.05,4.3,71.58,35.74,32.42,64.55,20.61,42.97,10.25,55.57,100.0,45.51,5.08,48.54,73.05,38.96,92.77,54.79,6.25,14.36,59.86,82.13,4.1,76.76,48.83,6.54,56.74,100.0,5.18,27.83,83.69,43.65,73.24,6.64,68.75,4.2,7.03,4.88,100.0,54.88,83.3,84.67,100.0,6.64,4.79,4.2,10.94,100.0,12.01,25.88,24.41,31.35,100.0,21.58,83.59,69.14,100.0,85.84,13.96,48.83,27.34,54.3,100.0,65.82,100.0,100.0,100.0,64.06,100.0,36.52,9.08,60.94,6.05,11.72,59.57,4.69,74.51,35.94,25.0,34.86,66.8,90.33,5.76,5.96,70.02,29.39,50.29,100.0,4.39,12.3,100.0,48.54,95.02,4.3,12.3,71.78,27.05,29.59,4.59,74.41,100.0,5.86,71.97,61.91,72.07,72.27,86.23,22.85,90.04,4.98,100.0,5.96,18.16,100.0,34.67,30.18,100.0,65.62,100.0,11.04,26.17,33.01,46.29,5.96,82.81,100.0,100.0,76.17,66.8,100.0,5.18,12.89,52.83,17.48,32.23,35.06,8.98,41.89,100.0,9.47,70.7,30.08,100.0,11.04,100.0,71.97,32.81,100.0,12.6,69.53,97.46,69.14,84.77,11.82,76.17,100.0,48.05,100.0,84.77,100.0,12.11,18.55,100.0,74.61,54.69,18.46,25.39,73.24,58.2,79.79,30.96,35.84,70.7,12.11,100.0,24.41,27.25,100.0,25.98,86.91,4.98,100.0,100.0,11.52,71.09,50.1,60.25,73.73,11.91,36.52,5.76,4.69,82.81,11.91,55.37,26.56,75.78,73.63,4.49,100.0,12.5,55.57,18.07,70.31,25.49,11.82,64.16,33.89,100.0,100.0,6.64,26.86,72.27,50.49,12.01,4.1,27.93,86.33,70.7,35.84,100.0,89.06,84.77,30.08,26.76,26.46,52.83,4.2,27.44,100.0,94.14,60.64,100.0,60.06,5.57,38.67,100.0,74.02,72.95,11.43,79.69,25.88,78.81,100.0,56.35,50.88,33.11,5.37,85.16,73.34,100.0,100.0,69.04,100.0,100.0,42.87,100.0,18.26,44.53,28.52,6.74,83.69,4.1,100.0,25.68,6.35,4.79,100.0,100.0,100.0,12.6,39.55,34.86,64.06,69.82,34.77,26.46,12.4,100.0,55.08,12.5,6.25,36.82,5.08,11.72,52.64,100.0,58.2,4.2,63.96,4.2,100.0,100.0,4.1,53.52,58.69,100.0,12.11,12.3,36.62],\"name\":\"Luminosity\"},{\"type\":\"box\",\"y\":[0.0,43.85,0.0,93.46,0.0,0.0,0.0,0.0,92.38,0.0,49.02,0.0,93.95,49.61,0.0,0.0,92.58,95.31,0.0,67.09,0.0,0.0,0.0,0.0,0.0,26.95,94.53,49.71,0.0,95.02,92.97,93.16,93.75,0.0,0.0,13.87,0.0,0.0,93.65,0.0,95.21,0.0,0.0,0.0,0.0,0.0,0.0,94.34,0.0,95.41,0.1,0.0,0.0,0.0,0.0,93.36,0.0,93.36,72.27,0.0,0.0,0.0,0.0,95.31,0.0,28.71,0.0,43.85,0.0,95.12,76.46,18.75,0.0,0.0,0.0,0.0,0.0,0.0,0.0,0.0,0.0,0.0,0.0,0.0,0.0,0.0,0.0,0.0,0.0,0.0,0.0,60.55,0.0,0.0,36.72,0.0,94.63,0.0,0.0,0.0,0.0,0.0,0.0,0.0,91.21,0.0,0.0,0.0,0.0,0.0,0.0,93.85,0.0,0.0,0.0,0.0,0.0,0.0,0.0,0.0,29.3,0.0,0.0,0.0,0.0,0.0,0.0,77.83,0.0,0.0,0.0,0.0,92.58,30.86,68.55,93.55,0.0,95.21,0.0,0.0,0.0,0.0,0.0,0.0,0.0,94.92,0.0,0.0,0.0,0.0,96.48,0.0,42.19,19.43,42.38,37.5,94.43,0.0,8.98,0.0,0.0,0.0,93.07,0.0,0.0,92.38,0.0,71.09,0.0,0.0,0.0,0.0,0.0,0.0,95.31,94.92,0.0,23.24,0.0,95.31,92.97,0.0,0.0,0.0,0.0,0.0,92.68,0.0,0.0,27.44,0.0,45.9,0.0,0.0,0.0,0.0,95.12,0.0,0.0,0.0,12.11,0.0,0.0,93.26,0.0,0.0,93.26,0.0,33.2,95.31,0.0,0.0,0.0,0.0,95.12,14.94,0.0,0.0,91.31,0.0,0.0,0.0,95.8,43.75,0.0,51.56,0.0,94.53,31.84,95.12,0.0,93.26,93.65,0.0,0.0,0.0,0.0,0.0,0.0,0.0,0.0,0.0,30.57,95.21,0.0,0.0,0.0,95.21,36.82,46.09,0.0,95.61,0.0,11.72,0.0,93.55,0.0,0.0,0.0,94.43,0.0,95.12,0.0,0.0,0.0,0.0,0.0,95.02,0.0,0.0,0.0,0.0,91.8,95.41,21.88,94.63,0.0,0.0,0.0,5.02,95.21,0.0,26.95,0.0,0.0,89.94,0.0,95.51,0.0,0.0,0.0,92.38,0.0,0.0,0.0,0.0,0.0,81.64,0.0,0.0,94.92,0.0,95.21,0.0,95.31,0.0,46.88,94.92,0.0,0.0,0.0,0.0,0.0,0.0,0.0,0.0,0.0,0.0,0.0,0.0,93.95,95.21,0.0,91.89,94.92,95.41,33.69,93.46,48.63,93.75,0.0,94.63,25.68,0.0,0.0,0.0,0.0,0.0,0.0,0.0,11.72,95.02,92.29,0.0,26.17,0.0,0.0,0.0,0.0,0.0,94.04,0.0,0.0,0.0,0.0,0.0,95.02,0.0,0.0,32.32,0.0,49.12,0.0,94.92,0.0,0.0,26.37,0.0,16.31,0.0,0.0,0.0,43.16,0.0,0.0,0.0,0.0,0.0,0.0,0.0,93.65,0.0,93.07,0.0,0.0,0.0,0.0,0.0,0.0,0.0,0.0,93.07,0.0,0.0,0.0,94.43,0.0,0.0,0.0,0.0,95.9,0.0,0.0,0.0,32.32,95.41,70.51,0.0,0.0,94.34,0.0,0.0,0.0,35.84,0.0,93.16,0.0,95.41,93.65,41.31,0.0,0.0,95.41,0.0,0.0,0.0,15.53,0.0,0.0,0.0,86.04,33.89,94.92,86.72,0.0,0.0,0.0,0.0,0.0,0.0,0.0,0.0,0.0,94.53,0.0,0.0,0.0,0.0,0.0,93.55,43.85,0.0,0.0,94.34,0.0,0.0,0.0,0.0,0.0,0.0,93.65,0.0,0.0,4.92,0.0,0.0,93.26,0.0,26.07,94.92,0.0,92.77,0.0,46.29,34.28,25.68,0.0,0.0,93.55,91.41,0.0,0.0,95.31,0.0,41.31,21.78,0.0,30.86,2.93,0.0,12.5,0.0,0.0,0.0,49.22,41.31,0.0,95.31,0.0,22.56,0.0,0.0,0.0,96.0,0.0,0.0,0.0,0.0,94.14,0.0,94.73,0.0,95.12,0.0,0.0,96.09,0.0,0.0,93.55,0.0,0.0,0.0,0.0,38.18,95.41,0.0,0.0,94.53,0.0,94.04,0.0,0.0,0.0,0.0,95.21,42.97,1.95,0.0,0.0,0.0,0.0,0.0,95.41,0.0,0.0,0.0,0.0,0.0,0.0,0.0,0.0,0.0,0.0,0.0,50.68,25.0,0.0,0.0,0.0,85.45,23.24,94.82,3.46,0.0,94.24,0.0,0.0,0.0,0.0,0.0,0.0,0.0,95.41,0.0,0.0,0.0,31.93,94.14,0.0,0.0,0.0,24.22,93.16,0.0,0.0,95.41,0.0,0.0,20.61,94.53,0.0,0.0,0.0,0.0,0.0,0.0,0.0,0.0,57.81,0.0,0.0,0.0,0.0,96.48,0.0,0.0,91.02,0.0,0.0,94.92,94.04,27.73,43.85,0.0,0.0,0.0,95.7,0.0,0.0,0.0,42.38,95.21,45.9,0.0,0.0,94.92,0.0,0.0,0.0,0.0,0.0,93.95,0.0,0.0,0.0,0.0,0.0,0.0,0.0,94.34,0.0,0.0,0.0,0.0,39.26,0.0,0.0,0.0,92.97,50.68,0.0,0.0,95.41],\"name\":\"Infrared\"},{\"type\":\"box\",\"y\":[28.69,195.19,24.32,400.0,76.97,17.49,193.76,343.57,7.16,400.0,61.88,63.57,400.0,61.57,156.23,155.3,8.4,42.94,400.0,6.76,192.26,56.12,10.78,290.37,29.68,400.0,400.0,193.64,68.01,400.0,72.25,400.0,20.09,400.0,400.0,400.0,13.28,399.53,400.0,400.0,7.1,348.63,400.0,400.0,60.47,61.0,22.83,152.74,194.3,400.0,400.0,89.11,60.77,400.0,93.85,400.0,82.07,154.04,152.37,153.61,154.98,154.09,6.39,194.23,49.91,60.36,400.0,195.19,70.65,193.43,53.76,59.74,400.0,96.35,400.0,193.69,153.67,19.6,88.66,193.34,400.0,59.16,400.0,154.89,60.21,20.44,400.0,154.09,88.66,50.82,193.73,400.0,25.27,64.48,60.04,66.43,19.84,153.6,10.37,400.0,14.38,366.22,193.84,31.24,400.0,34.96,194.31,73.51,90.42,400.0,71.82,154.46,77.67,400.0,193.78,59.11,75.12,317.08,400.0,60.46,57.5,74.23,88.81,400.0,59.4,63.72,400.0,400.0,400.0,194.66,78.93,8.52,70.73,400.0,59.97,154.04,9.84,400.0,155.35,400.0,68.15,67.65,193.25,97.01,400.0,193.4,64.25,76.43,325.6,24.33,154.99,194.69,400.0,19.16,193.35,400.0,154.87,20.1,56.18,77.33,400.0,400.0,400.0,7.48,74.18,56.79,97.13,400.0,400.0,400.0,400.0,193.44,193.37,91.58,153.62,193.33,400.0,60.46,66.28,5.85,400.0,59.49,193.73,193.39,66.38,49.92,69.76,76.89,68.91,59.15,50.02,194.48,400.0,37.69,242.96,6.13,400.0,400.0,400.0,59.21,400.0,28.04,66.13,400.0,66.73,90.06,5.8,61.76,400.0,41.3,28.33,400.0,65.89,400.0,400.0,58.61,34.18,60.42,400.0,69.64,8.8,400.0,345.43,400.0,195.03,400.0,154.5,400.0,400.0,193.72,82.61,46.13,60.81,51.67,194.58,400.0,400.0,43.43,193.78,400.0,400.0,400.0,59.85,400.0,193.75,400.0,400.0,400.0,400.0,56.59,194.28,45.92,73.86,62.67,155.79,400.0,57.4,18.78,79.42,44.79,74.86,193.43,400.0,400.0,400.0,82.12,193.34,56.17,28.38,155.39,58.1,194.62,60.46,194.16,57.16,7.91,400.0,16.5,400.0,5.73,21.85,400.0,400.0,400.0,61.46,56.2,195.03,400.0,156.99,76.22,75.33,40.68,400.0,193.83,400.0,75.87,193.44,400.0,400.0,83.96,193.33,366.69,193.32,68.42,400.0,75.51,400.0,400.0,400.0,400.0,67.07,400.0,6.45,400.0,194.64,93.64,400.0,86.1,11.26,193.75,5.11,400.0,400.0,400.0,193.4,400.0,400.0,345.92,60.05,18.08,154.1,19.56,57.68,194.69,14.01,400.0,8.79,125.81,9.62,400.0,400.0,400.0,400.0,49.02,57.48,75.56,400.0,400.0,400.0,400.0,400.0,400.0,153.31,193.34,70.24,400.0,193.76,23.01,54.29,59.7,400.0,57.06,156.15,42.46,12.08,78.02,54.62,193.34,55.94,73.64,321.3,400.0,60.86,25.22,66.19,154.51,65.67,400.0,78.08,35.34,4.19,76.24,19.04,63.88,15.9,193.4,75.72,27.28,71.72,400.0,24.53,400.0,400.0,64.68,95.86,44.04,65.42,400.0,154.91,82.69,152.3,79.72,195.05,193.72,60.4,400.0,153.16,394.32,322.63,41.55,62.4,89.89,60.7,60.11,52.13,46.56,400.0,400.0,152.82,195.23,301.72,55.43,194.03,14.8,78.83,154.49,400.0,21.35,400.0,182.04,57.69,56.2,193.4,5.12,11.61,400.0,70.36,193.76,60.21,400.0,65.28,66.49,96.48,60.76,61.12,400.0,154.9,400.0,194.28,60.14,400.0,72.21,57.95,400.0,400.0,170.5,400.0,64.47,66.87,66.11,61.23,64.47,75.65,4.28,400.0,107.1,7.56,49.57,400.0,46.4,13.86,7.91,400.0,57.48,17.91,400.0,70.74,55.49,7.52,9.47,194.3,400.0,400.0,72.81,59.06,400.0,400.0,57.72,19.5,154.51,57.2,400.0,70.31,400.0,400.0,195.23,400.0,400.0,170.5,400.0,51.01,91.63,61.2,155.75,350.8,66.15,77.05,194.3,6.25,9.85,7.9,399.49,59.09,400.0,400.0,400.0,146.28,58.89,400.0,194.58,193.4,61.42,64.22,57.5,194.55,153.31,73.87,7.96,193.72,400.0,400.0,194.66,6.14,19.46,69.47,237.28,54.18,400.0,9.42,10.11,125.81,83.75,194.03,78.88,65.37,53.59,400.0,63.61,193.75,193.93,129.92,400.0,56.06,60.24,400.0,5.06,194.26,194.64,400.0,60.02,61.67,400.0,4.28,61.62,400.0,194.25,8.84,79.96,67.74,25.62,400.0,400.0,194.55,57.64,54.26,67.14,60.96,400.0,193.75,400.0,67.0,400.0,59.14,49.1,66.07,400.0,61.42,400.0,59.0,400.0,194.3,195.93,88.91,65.26,193.79,19.25,400.0,61.91,52.51,400.0,400.0,66.31,193.83,152.28,7.13,10.39,400.0,400.0,6.79,42.18,154.89,58.95,52.37,400.0,22.42,154.13,153.66,194.61,154.08,89.66,194.23,400.0,193.11,89.71,56.85,193.4,71.52,194.2,400.0,193.73,400.0,400.0,64.37,400.0,400.0,23.36,75.81,400.0,59.05,153.63,20.8,154.49,64.98,153.65,193.34,364.7,156.16,400.0,59.69,196.29,400.0,400.0,194.16],\"name\":\"Distance\"}];\n",
       "            var layout = {\"title\":\"Segmentation box plot\"};\n",
       "            Plotly.newPlot('c8f60588-572a-444e-afd3-8fd6beb8bcc4', data, layout);\n",
       "        \r\n",
       "});\r\n",
       "};\r\n",
       "if ((typeof(requirejs) !==  typeof(Function)) || (typeof(requirejs.config) !== typeof(Function))) { \r\n",
       "    var script = document.createElement(\"script\"); \r\n",
       "    script.setAttribute(\"src\", \"https://cdnjs.cloudflare.com/ajax/libs/require.js/2.3.6/require.min.js\"); \r\n",
       "    script.onload = function(){\r\n",
       "        renderPlotly();\r\n",
       "    };\r\n",
       "    document.getElementsByTagName(\"head\")[0].appendChild(script); \r\n",
       "}\r\n",
       "else {\r\n",
       "    renderPlotly();\r\n",
       "}\r\n",
       "</script>\r\n"
      ]
     },
     "metadata": {},
     "output_type": "display_data"
    }
   ],
   "source": [
    "var featuresTemperatures = features.Select(f => f.Temperature);\n",
    "var featuresLuminosities = features.Select(f => f.Luminosity);\n",
    "var featuresInfrareds = features.Select(f => f.Infrared);\n",
    "var featuresDistances = features.Select(f => f.Distance);\n",
    "\n",
    "var categoriesDiagram = Chart.Plot(new[] {\n",
    "    new Graph.Box { y = featuresTemperatures, name = \"Temperature\" },\n",
    "    new Graph.Box { y = featuresLuminosities, name = \"Luminosity\" },\n",
    "    new Graph.Box { y = featuresInfrareds, name = \"Infrared\" },\n",
    "    new Graph.Box { y = featuresDistances, name = \"Distance\" }\n",
    "});\n",
    "var layout = new Layout.Layout()\n",
    "{\n",
    "    title = \"Segmentation box plot\"\n",
    "};\n",
    "categoriesDiagram.WithLayout(layout);\n",
    "display(categoriesDiagram);"
   ]
  },
  {
   "cell_type": "code",
   "execution_count": 68,
   "metadata": {},
   "outputs": [
    {
     "data": {
      "text/html": [
       "Installing package MathNet.Numerics, version 4.9.0........"
      ]
     },
     "metadata": {},
     "output_type": "display_data"
    },
    {
     "data": {
      "text/html": [
       "Installing package Microsoft.ML, version 1.4.0........"
      ]
     },
     "metadata": {},
     "output_type": "display_data"
    }
   ],
   "source": [
    "#r \"nuget:MathNet.Numerics, 4.9.0\"\n",
    "using MathNet.Numerics.Statistics;"
   ]
  },
  {
   "cell_type": "code",
   "execution_count": 69,
   "metadata": {},
   "outputs": [
    {
     "data": {
      "text/html": [
       "<div id=\"e9b011cf-941a-4566-8a55-56e282e2831c\" style=\"width: 900px; height: 500px;\"></div>\r\n",
       "<script type=\"text/javascript\">\r\n",
       "\r\n",
       "var renderPlotly = function() {\r\n",
       "    var xplotRequire = requirejs.config({context:'xplot-3.0.1',paths:{plotly:'https://cdn.plot.ly/plotly-1.49.2.min'}});\r\n",
       "    xplotRequire(['plotly'], function(Plotly) {\r\n",
       "\n",
       "            var data = [{\"type\":\"heatmap\",\"z\":[[0.036158477361297466,0.4354071431482964,0.48000243066820975,1.0],[0.029878884187506376,0.3562947906820931,1.0,0.48000243066820975],[0.06815627835335349,1.0,0.3562947906820931,0.4354071431482964],[1.0,0.06815627835335349,0.029878884187506376,0.036158477361297466]],\"x\":[\"Temperature\",\"Luminosity\",\"Infrared\",\"Distance\"],\"y\":[\"Distance\",\"Infrared\",\"Luminosity\",\"Temperature\"],\"zmin\":-1.0,\"zmax\":1.0}];\n",
       "            var layout = {\"title\":\"Correlation Matrix\",\"autosize\":\"true\",\"margin\":{\"l\":90.0}};\n",
       "            Plotly.newPlot('e9b011cf-941a-4566-8a55-56e282e2831c', data, layout);\n",
       "        \r\n",
       "});\r\n",
       "};\r\n",
       "if ((typeof(requirejs) !==  typeof(Function)) || (typeof(requirejs.config) !== typeof(Function))) { \r\n",
       "    var script = document.createElement(\"script\"); \r\n",
       "    script.setAttribute(\"src\", \"https://cdnjs.cloudflare.com/ajax/libs/require.js/2.3.6/require.min.js\"); \r\n",
       "    script.onload = function(){\r\n",
       "        renderPlotly();\r\n",
       "    };\r\n",
       "    document.getElementsByTagName(\"head\")[0].appendChild(script); \r\n",
       "}\r\n",
       "else {\r\n",
       "    renderPlotly();\r\n",
       "}\r\n",
       "</script>\r\n"
      ]
     },
     "metadata": {},
     "output_type": "display_data"
    }
   ],
   "source": [
    "var featureColumns = new string[] { \"Temperature\", \"Luminosity\", \"Infrared\", \"Distance\" };\n",
    "\n",
    "var correlationMatrix = new List<List<double>>();\n",
    "correlationMatrix.Add(featuresTemperatures.Select(x => (double)x).ToList());\n",
    "correlationMatrix.Add(featuresLuminosities.Select(x => (double)x).ToList());\n",
    "correlationMatrix.Add(featuresInfrareds.Select(x => (double)x).ToList());\n",
    "correlationMatrix.Add(featuresDistances.Select(x => (double)x).ToList());\n",
    "\n",
    "var length = featureColumns.Length;\n",
    "\n",
    "var z = new double[length, length];\n",
    "for (int x = 0; x < length; ++x)\n",
    "{\n",
    "    for (int y = 0; y < length - 1 - x; ++y)\n",
    "    {\n",
    "        var seriesA = correlationMatrix[x];\n",
    "        var seriesB = correlationMatrix[length - 1 - y];\n",
    "\n",
    "        var value = Correlation.Pearson(seriesA, seriesB);\n",
    "\n",
    "        z[x, y] = value;\n",
    "        z[length - 1 - y, length - 1 - x] = value;\n",
    "    }\n",
    "\n",
    "    z[x, length - 1 - x] = 1;\n",
    "}\n",
    "\n",
    "var correlationMatrixHeatmap = Chart.Plot(\n",
    "    new Graph.Heatmap \n",
    "    {\n",
    "        x = featureColumns,\n",
    "        y = featureColumns.Reverse(),\n",
    "        z = z,\n",
    "        zmin = -1,\n",
    "        zmax = 1\n",
    "    }\n",
    ");\n",
    "\n",
    "var layout = new Layout.Layout()\n",
    "{\n",
    "    autosize = \"true\", \n",
    "    margin =  new Graph.Margin{ l = 90 },\n",
    "    title = \"Correlation Matrix\"\n",
    "};\n",
    "correlationMatrixHeatmap.WithLayout(layout);\n",
    "display(correlationMatrixHeatmap);"
   ]
  },
  {
   "cell_type": "markdown",
   "metadata": {},
   "source": [
    "### Pre-processing pipeline"
   ]
  },
  {
   "cell_type": "code",
   "execution_count": 70,
   "metadata": {},
   "outputs": [],
   "source": [
    "var preprocessingPipeline = mlContext.Transforms.Conversion.MapValueToKey(\"Label\")\n",
    "    .Append(mlContext.Transforms.Concatenate(\"Features\", featureColumns))\n",
    "    .Append(mlContext.Transforms.NormalizeMinMax(\"Features\", \"Features\"));"
   ]
  },
  {
   "cell_type": "markdown",
   "metadata": {},
   "source": [
    "### Model builder pipeline"
   ]
  },
  {
   "cell_type": "code",
   "execution_count": 71,
   "metadata": {},
   "outputs": [],
   "source": [
    "var modelPipeline = preprocessingPipeline\n",
    "    .Append(mlContext.MulticlassClassification.Trainers.SdcaNonCalibrated(\"Label\", \"Features\"));"
   ]
  },
  {
   "cell_type": "markdown",
   "metadata": {},
   "source": [
    "### Post-processing pipeline"
   ]
  },
  {
   "cell_type": "code",
   "execution_count": 72,
   "metadata": {},
   "outputs": [],
   "source": [
    "var postprocessingPipeline = modelPipeline\n",
    "    .Append(mlContext.Transforms.Conversion.MapKeyToValue(\"PredictedLabel\"));"
   ]
  },
  {
   "cell_type": "markdown",
   "metadata": {},
   "source": [
    "### Train the model"
   ]
  },
  {
   "cell_type": "code",
   "execution_count": 73,
   "metadata": {},
   "outputs": [],
   "source": [
    "var model = postprocessingPipeline.Fit(trainingData);"
   ]
  },
  {
   "cell_type": "code",
   "execution_count": null,
   "metadata": {},
   "outputs": [],
   "source": []
  },
  {
   "cell_type": "code",
   "execution_count": 74,
   "metadata": {},
   "outputs": [
    {
     "data": {
      "text/html": [
       "<div id=\"84ad0383-cddf-4d87-9835-a1ee61cc05ef\" style=\"width: 900px; height: 500px;\"></div>\r\n",
       "<script type=\"text/javascript\">\r\n",
       "\r\n",
       "var renderPlotly = function() {\r\n",
       "    var xplotRequire = requirejs.config({context:'xplot-3.0.1',paths:{plotly:'https://cdn.plot.ly/plotly-1.49.2.min'}});\r\n",
       "    xplotRequire(['plotly'], function(Plotly) {\r\n",
       "\n",
       "            var data = [{\"type\":\"box\",\"y\":[0.20468135,0.73145914,0.19647628,0.5182547,0.20468135,0.15443328,0.17389646,0.14934486,0.21695714,0.20264599,0.19234194,0.20468135,0.3378705,0.20468135,0.15665945,0.15029894,0.21288641,0.20468135,0.2067167,0.22923294,0.17389646,0.33583513,0.15545097,0.15138023,0.20468135,0.19030659,0.24157232,0.59820634,0.20468135,0.47525764,0.27432898,0.6904338,0.19647628,0.19647628,0.2067167,0.19234194,0.16162066,0.14934486,0.19234194,0.2067167,0.3911716,0.2067167,0.20468135,0.19851165,0.19851165,0.20468135,0.2067167,0.16779035,0.17389646,0.23336725,0.19234194,0.15545097,0.20264599,0.20468135,0.16162066,0.2067167,0.15754993,0.16982573,0.16779035,0.15462409,0.15239792,0.15239792,0.14807278,0.1595853,0.20468135,0.20468135,0.2067167,0.73145914,0.15754993,0.16162066,0.2067167,0.20468135,0.20468135,0.1595853,0.20468135,0.15545097,0.15665945,0.19851165,0.1595853,0.17599542,0.16162066,0.2067167,0.15812239,0.15239792,0.20264599,0.19851165,0.15545097,0.15029894,0.1595853,0.20468135,0.15545097,0.19234194,0.20264599,0.20468135,0.19234194,0.2067167,0.1646737,0.16301997,0.14807278,0.1595853,0.16162066,0.15545097,0.17389646,0.20468135,0.321524,0.20468135,0.17389646,0.20468135,0.15754993,0.1595853,0.1595853,0.5552093,0.20468135,0.15786795,0.15545097,0.2067167,0.20468135,0.1534156,0.1595853,0.19851165,0.19444092,0.20468135,0.1595853,0.1595853,0.2620532,0.2067167,0.20468135,0.1646737,0.2067167,0.15545097,0.20468135,0.1535428,0.23336725,0.20468135,0.20468135,0.16779035,0.15990332,0.21078743,0.15665945,0.2189925,0.15754993,0.20468135,0.1534156,0.15754993,0.20054701,0.1595853,0.2067167,0.20468135,0.15138023,0.19647628,0.40948987,0.17599542,0.19234194,0.20468135,0.5654497,0.20468135,0.5859306,0.20264599,0.2067167,0.1595853,0.2067167,0.20468135,0.42602727,0.1535428,0.20468135,0.2067167,0.1595853,0.2067167,0.20468135,0.15665945,0.19851165,0.17389646,0.17389646,0.1595853,0.4506424,0.1595853,0.19851165,0.19234194,0.2067167,0.30097952,0.41375145,0.20054701,0.15545097,0.17599542,0.20468135,0.43016154,0.22516221,0.1595853,0.15545097,0.19234194,0.20468135,0.64743674,0.20468135,0.1534156,0.15754993,0.15754993,0.32355934,0.2067167,0.20468135,0.20468135,0.19234194,0.20468135,0.20468135,0.6187508,0.2067167,0.1595853,0.27229363,0.20468135,0.19234194,0.48753342,0.20468135,0.20468135,0.2067167,0.20468135,0.24774203,0.19851165,0.20468135,0.2067167,0.2067167,0.15545097,0.1535428,0.20468135,0.76014507,0.20468135,0.15754993,0.16779035,0.15665945,0.23540261,0.19234194,0.1595853,0.20468135,0.30511388,0.5203536,0.2067167,0.15545097,0.15545097,0.1595853,0.20468135,0.15545097,0.20468135,0.1595853,0.1595853,0.19234194,0.2067167,0.15545097,0.19851165,0.20468135,0.3727261,0.19234194,0.20468135,0.17599542,0.641267,0.14934486,0.19234194,0.14807278,0.22312684,0.33583513,0.18420048,0.15754993,0.21695714,0.20468135,0.16162066,0.20468135,0.20264599,0.2067167,0.1595853,0.17599542,0.3133189,0.20264599,0.15239792,0.20468135,0.15545097,0.19234194,0.15754993,0.19234194,0.44243735,0.20264599,0.20468135,0.19851165,0.7027732,0.15506932,0.20468135,0.20468135,0.15583259,0.2189925,0.2067167,0.15754993,0.1646737,0.14807278,0.20468135,0.20468135,0.54490525,0.2067167,0.17389646,0.20468135,0.20468135,0.18210152,0.2067167,0.2067167,0.1595853,0.1595853,0.15545097,0.16162066,0.15545097,0.3563796,0.20468135,0.19234194,0.284633,0.1595853,0.20264599,0.15754993,0.1595853,0.15850401,0.20468135,0.15545097,0.1595853,0.1595853,0.1595853,0.14807278,0.15545097,0.16779035,0.40739095,0.1595853,0.22923294,0.1595853,0.5736548,0.2067167,0.4650172,0.20468135,0.1646737,0.15462409,0.16034855,0.19234194,0.17599542,0.16162066,0.20468135,0.1535428,0.17389646,0.14807278,0.2067167,0.16779035,0.20875207,0.3563796,0.2067167,0.18827122,0.20468135,0.21695714,0.20468135,0.1595853,0.1595853,0.22312684,0.23133188,0.17389646,0.17599542,0.20468135,0.20054701,0.1595853,0.19851165,0.20875207,0.19030659,0.20468135,0.19234194,0.14807278,0.35428065,0.14807278,0.20468135,0.20468135,0.17599542,0.20468135,0.14934486,0.1534156,0.20468135,0.19030659,0.20054701,0.15754993,0.15665945,0.2067167,0.2067167,0.20468135,0.2067167,0.65150744,0.20468135,0.1646737,0.14934486,0.2067167,0.17599542,0.20468135,0.20264599,0.20468135,0.20468135,0.20468135,0.5674851,0.2067167,0.15754993,0.14934486,0.2189925,0.20468135,0.20468135,0.15665945,0.1595853,0.15443328,0.1595853,0.1534156,0.15545097,0.19234194,0.21288641,0.16779035,0.14934486,0.15754993,0.30097952,0.2067167,0.15754993,0.19851165,0.19234194,0.20468135,0.23133188,0.20264599,0.5654497,0.5777255,0.84213203,0.15754993,0.21078743,0.16162066,0.14807278,0.15754993,0.15646864,0.19234194,0.2067167,0.20468135,0.17803079,0.20468135,0.2067167,0.1595853,0.40739095,0.14934486,0.20468135,0.20468135,0.17389646,0.20264599,0.20468135,0.2067167,0.20468135,0.1595853,1.0,0.20264599,0.20468135,0.15029894,0.1595853,0.17599542,0.20468135,0.20468135,0.20468135,0.2067167,0.47112328,0.20468135,0.17389646,0.15138023,0.2067167,0.2067167,0.15754993,0.20468135,0.2067167,0.20468135,0.6945681,0.2067167,0.20468135,0.31128356,0.2067167,0.19030659,0.23133188,0.15138023,0.22923294,0.1595853,0.19234194,0.19030659,0.19234194,0.20468135,0.2067167,0.23133188,0.6125811,0.17599542,0.20264599,0.5695204,0.20468135,0.20468135,0.2067167,0.15754993,0.20468135,0.19030659,0.15239792,0.19234194,0.2969088,0.22109146,0.2067167,0.20468135,0.84213203,0.20468135,0.22516221,0.17389646,0.19234194,0.3624857,0.15754993,0.20468135,0.40739095,0.1534156,0.15545097,0.1595853,0.17599542,0.52645975,0.16422847,0.6064114,0.14934486,0.23133188,0.1595853,0.15754993,0.41292456,0.17389646,0.2067167,0.20468135,0.15545097,0.17599542,0.20468135,0.2067167,0.19234194,0.1595853,0.17389646,0.1595853,0.20468135,0.15545097,0.20468135,0.2067167,0.15545097,0.14807278,0.20468135,0.23336725,0.63306195,0.19234194,0.20054701,0.1535428,0.14807278,0.17389646,0.1595853,0.16162066,0.20468135,0.20468135,0.21695714,0.15754993,0.20468135,0.15545097,0.17389646,0.17389646,0.20468135,0.2067167,0.15754993,0.19234194,0.16779035,0.17389646,0.15545097,0.15754993,0.19234194,0.19234194,0.9753849,0.68432766,0.20468135,0.19647628,0.17389646,0.15786795,0.1595853,0.20468135,0.20264599,0.2067167,0.19851165,0.1595853,0.20468135,0.20875207,0.1534156,0.19030659,0.19647628,0.15545097,0.2067167,0.20264599,0.19030659,0.41578683,0.2067167,0.2067167,0.28666836,0.20264599,0.20468135,0.20468135,0.3317644,0.17389646,0.17389646,0.15754993,0.2067167,0.15545097,0.20468135,0.21695714,0.20264599,0.2067167,0.20468135,0.20468135,0.2067167,0.17389646,0.16263834,0.1535428,0.14807278,0.3932706,0.2067167,0.1535428,0.23133188,0.15506932,0.19234194,0.2067167,0.20468135,0.20264599,0.15029894,0.41317898,0.15545097,0.15443328,0.20468135,0.604376,0.34200484,0.61461645,0.1595853,0.20468135,0.1595853,0.15754993,0.17389646,0.19234194,0.15545097,0.15545097,0.2189925,0.19851165,0.15754993,0.20468135,0.2067167,0.20468135,0.15545097,0.20468135,0.6248569,0.20468135,0.16301997,0.2067167,0.15665945,0.5531103,0.1534156,0.15029894,0.2067167,0.19234194,0.6248569,0.1595853,0.1595853,0.15754993],\"name\":\"Temperature\"},{\"type\":\"box\",\"y\":[0.0684,1.0,0.73440003,1.0,0.0664,0.1445,0.70019996,0.876,1.0,0.5752,0.1113,0.043899998,1.0,0.2979,0.053699996,0.041999996,1.0,1.0,1.0,1.0,0.71879995,1.0,1.0,0.66410005,0.0732,0.3008,1.0,1.0,0.0508,1.0,1.0,1.0,0.24409999,0.74410003,0.5078,0.4131,0.1191,0.78999996,0.417,0.95309997,1.0,0.72749996,0.061499998,0.5664,0.0547,0.41599998,0.6133,0.2109,0.7432,1.0,0.3164,0.126,0.6846,0.0586,0.0928,1.0,0.125,0.19139999,0.2197,0.1875,0.1064,0.040999997,1.0,0.3516,0.3711,0.1719,0.64839995,1.0,0.081999995,0.3506,0.126,0.125,0.54389995,0.122099996,0.1455,0.2578,0.040999997,0.4258,0.122999996,0.75589997,0.1143,0.54389995,0.0703,0.090799995,0.5361,0.749,0.8232,0.040999997,0.1289,0.5205,0.26459998,0.29299998,0.85059994,0.6416,0.1865,0.8583999,0.2559,0.040999997,0.6162,0.126,0.113299996,0.6318,0.7354,0.3223,1.0,0.053699996,0.7383,0.049799997,0.13479999,0.12399999,0.1201,1.0,0.0586,0.0654,0.2588,0.5479,0.0664,0.79489994,0.1191,0.6016,0.2578,0.061499998,0.12789999,0.12109999,1.0,0.6055,0.043899998,0.249,0.8583999,0.2598,0.0605,0.5029,1.0,0.35349998,0.1504,0.22749999,0.49319997,1.0,0.040999997,1.0,0.8711,0.043,0.249,0.1406,0.8672,0.35939997,0.73139995,0.043899998,0.8867,0.5244,1.0,0.75,0.3164,0.1172,1.0,0.249,1.0,1.0,0.28809997,0.1191,0.60639995,0.5586,1.0,1.0,0.0605,0.3447,0.1299,0.3789,0.0488,0.040999997,0.6914,0.7529,0.7148,0.122099996,1.0,0.3545,0.3389,0.2656,0.9141,1.0,1.0,0.6807,0.25489998,0.73629993,0.052699998,1.0,1.0,0.1191,0.835,0.2383,0.46189997,1.0,0.19729999,0.8154,0.6396,0.10739999,1.0,0.88379997,0.063499995,0.1768,0.32709998,0.049799997,0.040999997,1.0,0.72069997,0.1201,1.0,0.5781,0.27049997,1.0,0.6846,0.7891,0.6924,0.6572,1.0,0.3633,0.053699996,0.8828,0.1934,0.9561,0.624,0.052699998,1.0,0.31739998,0.2559,0.21,0.04,1.0,0.2051,0.3574,0.0654,1.0,1.0,0.044899996,0.2539,0.8026999,0.1318,0.5,0.2588,0.044899996,0.12109999,0.12399999,0.24319999,1.0,0.26459998,0.63769996,0.7266,1.0,0.3359,0.3223,0.71779996,1.0,0.93160003,0.35939997,0.39939997,1.0,1.0,0.0654,0.122999996,1.0,0.044899996,0.3506,1.0,0.49119997,0.5703,0.12109999,0.75589997,1.0,0.6016,0.0771,0.4258,0.2578,0.2197,0.36619997,0.292,1.0,0.45119998,1.0,0.34669998,1.0,0.19729999,0.0684,0.35639998,0.081099994,1.0,0.22749999,0.2559,0.3418,0.54099995,0.0625,0.044899996,1.0,0.045900002,0.7333999,0.07619999,0.0469,0.749,0.3154,0.5693,0.1191,0.3545,0.6758,0.36519998,0.8955,1.0,0.043899998,0.2969,0.88769996,0.1309,1.0,0.8926,0.125,0.457,0.6113,0.2598,0.113299996,0.1182,0.122999996,0.66499996,0.25489998,0.2344,0.8232,0.12109999,1.0,0.35939997,1.0,0.2744,1.0,0.3096,0.24509999,0.3799,0.33689997,0.2852,0.75,0.1182,0.0625,0.4082,0.73730004,0.5732,0.7578,0.18360001,1.0,1.0,0.1943,0.100600004,0.056599997,1.0,0.251,0.12399999,0.12109999,1.0,1.0,0.70699996,0.73050004,0.043,0.7158,0.3574,0.32419997,0.6455,0.2061,0.42970002,0.1025,0.5557,1.0,0.45509997,0.0508,0.4854,0.73050004,0.38959998,0.9276999,0.5479,0.0625,0.14359999,0.5986,0.82129997,0.040999997,0.7676,0.4883,0.0654,0.5674,1.0,0.051799998,0.2783,0.8369,0.4365,0.73239994,0.0664,0.6875,0.041999996,0.0703,0.0488,1.0,0.5488,0.833,0.84669995,1.0,0.0664,0.0479,0.041999996,0.1094,1.0,0.1201,0.2588,0.24409999,0.3135,1.0,0.21579999,0.83589995,0.6914,1.0,0.8583999,0.1396,0.4883,0.2734,0.543,1.0,0.65819997,1.0,1.0,1.0,0.64059997,1.0,0.36519998,0.090799995,0.6094,0.0605,0.1172,0.59569997,0.0469,0.7451,0.35939997,0.25,0.3486,0.66800004,0.9033,0.057600003,0.0596,0.70019996,0.29389998,0.5029,1.0,0.043899998,0.122999996,1.0,0.4854,0.95019996,0.043,0.122999996,0.71779996,0.27049997,0.2959,0.045900002,0.74410003,1.0,0.0586,0.7197,0.6191,0.72069997,0.72269994,0.86230004,0.2285,0.9004,0.049799997,1.0,0.0596,0.18159999,1.0,0.34669998,0.30179998,1.0,0.6562,1.0,0.1104,0.2617,0.33009997,0.4629,0.0596,0.82809997,1.0,1.0,0.7617,0.66800004,1.0,0.051799998,0.1289,0.5283,0.1748,0.3223,0.3506,0.08979999,0.41889998,1.0,0.0947,0.70699996,0.3008,1.0,0.1104,1.0,0.7197,0.3281,1.0,0.126,0.6953,0.97459996,0.6914,0.84769994,0.1182,0.7617,1.0,0.48049998,1.0,0.84769994,1.0,0.12109999,0.18549998,1.0,0.7461,0.5469,0.18459998,0.2539,0.73239994,0.582,0.7979,0.3096,0.3584,0.70699996,0.12109999,1.0,0.24409999,0.2725,1.0,0.2598,0.86910003,0.049799997,1.0,1.0,0.115200005,0.71089995,0.501,0.60249996,0.73730004,0.1191,0.36519998,0.057600003,0.0469,0.82809997,0.1191,0.5537,0.2656,0.7578,0.73629993,0.044899996,1.0,0.125,0.5557,0.18069999,0.70309997,0.25489998,0.1182,0.6416,0.3389,1.0,1.0,0.0664,0.2686,0.72269994,0.5049,0.1201,0.040999997,0.2793,0.8633,0.70699996,0.3584,1.0,0.89059997,0.84769994,0.3008,0.2676,0.26459998,0.5283,0.041999996,0.2744,1.0,0.9414,0.60639995,1.0,0.6006,0.0557,0.38669997,1.0,0.7401999,0.72949994,0.1143,0.79690003,0.2588,0.78809994,1.0,0.5635,0.50879997,0.3311,0.053699996,0.8516,0.7333999,1.0,1.0,0.6904,1.0,1.0,0.42869997,1.0,0.18259999,0.44529998,0.2852,0.06739999,0.8369,0.040999997,1.0,0.2568,0.063499995,0.0479,1.0,1.0,1.0,0.126,0.39549997,0.3486,0.64059997,0.6982,0.3477,0.26459998,0.12399999,1.0,0.5508,0.125,0.0625,0.36819997,0.0508,0.1172,0.52639997,1.0,0.582,0.041999996,0.6396,0.041999996,1.0,1.0,0.040999997,0.5352,0.5869,1.0,0.12109999,0.122999996,0.36619997],\"name\":\"Luminosity\"},{\"type\":\"box\",\"y\":[0.0,0.4544983,0.0,0.9686981,0.0,0.0,0.0,0.0,0.95750403,0.0,0.50808454,0.0,0.9737768,0.5141998,0.0,0.0,0.9595771,0.987873,0.0,0.6953772,0.0,0.0,0.0,0.0,0.0,0.2793325,0.9797885,0.51523626,0.0,0.9848672,0.96361935,0.9655887,0.9717039,0.0,0.0,0.14376035,0.0,0.0,0.9706674,0.0,0.98683655,0.0,0.0,0.0,0.0,0.0,0.0,0.97781914,0.0,0.9889096,0.0010364841,0.0,0.0,0.0,0.0,0.9676616,0.0,0.9676616,0.74906707,0.0,0.0,0.0,0.0,0.987873,0.0,0.2975746,0.0,0.4544983,0.0,0.98590374,0.7924958,0.19434078,0.0,0.0,0.0,0.0,0.0,0.0,0.0,0.0,0.0,0.0,0.0,0.0,0.0,0.0,0.0,0.0,0.0,0.0,0.0,0.62759113,0.0,0.0,0.380597,0.0,0.98082495,0.0,0.0,0.0,0.0,0.0,0.0,0.0,0.9453772,0.0,0.0,0.0,0.0,0.0,0.0,0.97274035,0.0,0.0,0.0,0.0,0.0,0.0,0.0,0.0,0.30368987,0.0,0.0,0.0,0.0,0.0,0.0,0.80669564,0.0,0.0,0.0,0.0,0.9595771,0.31985903,0.71050996,0.96963096,0.0,0.98683655,0.0,0.0,0.0,0.0,0.0,0.0,0.0,0.98383075,0.0,0.0,0.0,0.0,0.99999994,0.0,0.43729267,0.20138888,0.439262,0.38868156,0.978752,0.0,0.093076274,0.0,0.0,0.0,0.9646558,0.0,0.0,0.95750403,0.0,0.73683655,0.0,0.0,0.0,0.0,0.0,0.0,0.987873,0.98383075,0.0,0.24087892,0.0,0.987873,0.96361935,0.0,0.0,0.0,0.0,0.0,0.96061355,0.0,0.0,0.28441125,0.0,0.47574624,0.0,0.0,0.0,0.0,0.98590374,0.0,0.0,0.0,0.12551823,0.0,0.0,0.96662515,0.0,0.0,0.96662515,0.0,0.34411275,0.987873,0.0,0.0,0.0,0.0,0.98590374,0.15485074,0.0,0.0,0.9464137,0.0,0.0,0.0,0.99295187,0.45346183,0.0,0.53441125,0.0,0.9797885,0.33001655,0.98590374,0.0,0.96662515,0.9706674,0.0,0.0,0.0,0.0,0.0,0.0,0.0,0.0,0.0,0.3168532,0.98683655,0.0,0.0,0.0,0.98683655,0.38163346,0.47771555,0.0,0.99098253,0.0,0.12147595,0.0,0.96963096,0.0,0.0,0.0,0.978752,0.0,0.98590374,0.0,0.0,0.0,0.0,0.0,0.9848672,0.0,0.0,0.0,0.0,0.9514925,0.9889096,0.22678272,0.98082495,0.0,0.0,0.0,0.052031506,0.98683655,0.0,0.2793325,0.0,0.0,0.9322139,0.0,0.98994607,0.0,0.0,0.0,0.95750403,0.0,0.0,0.0,0.0,0.0,0.8461857,0.0,0.0,0.98383075,0.0,0.98683655,0.0,0.987873,0.0,0.4859038,0.98383075,0.0,0.0,0.0,0.0,0.0,0.0,0.0,0.0,0.0,0.0,0.0,0.0,0.9737768,0.98683655,0.0,0.9524253,0.98383075,0.9889096,0.3491915,0.9686981,0.50404227,0.9717039,0.0,0.98082495,0.26616913,0.0,0.0,0.0,0.0,0.0,0.0,0.0,0.12147595,0.9848672,0.9565712,0.0,0.2712479,0.0,0.0,0.0,0.0,0.0,0.97470975,0.0,0.0,0.0,0.0,0.0,0.9848672,0.0,0.0,0.3349917,0.0,0.509121,0.0,0.98383075,0.0,0.0,0.27332088,0.0,0.16905056,0.0,0.0,0.0,0.44734657,0.0,0.0,0.0,0.0,0.0,0.0,0.0,0.9706674,0.0,0.9646558,0.0,0.0,0.0,0.0,0.0,0.0,0.0,0.0,0.9646558,0.0,0.0,0.0,0.978752,0.0,0.0,0.0,0.0,0.99398834,0.0,0.0,0.0,0.3349917,0.9889096,0.730825,0.0,0.0,0.97781914,0.0,0.0,0.0,0.37147593,0.0,0.9655887,0.0,0.9889096,0.9706674,0.42817163,0.0,0.0,0.9889096,0.0,0.0,0.0,0.160966,0.0,0.0,0.0,0.891791,0.35126448,0.98383075,0.89883906,0.0,0.0,0.0,0.0,0.0,0.0,0.0,0.0,0.0,0.9797885,0.0,0.0,0.0,0.0,0.0,0.96963096,0.4544983,0.0,0.0,0.97781914,0.0,0.0,0.0,0.0,0.0,0.0,0.9706674,0.0,0.0,0.050995022,0.0,0.0,0.96662515,0.0,0.27021143,0.98383075,0.0,0.9615463,0.0,0.47978854,0.35530677,0.26616913,0.0,0.0,0.96963096,0.9474502,0.0,0.0,0.987873,0.0,0.42817163,0.22574626,0.0,0.31985903,0.030368987,0.0,0.12956052,0.0,0.0,0.0,0.5101575,0.42817163,0.0,0.987873,0.0,0.23383082,0.0,0.0,0.0,0.9950248,0.0,0.0,0.0,0.0,0.9757462,0.0,0.9818615,0.0,0.98590374,0.0,0.0,0.9959576,0.0,0.0,0.96963096,0.0,0.0,0.0,0.0,0.39572966,0.9889096,0.0,0.0,0.9797885,0.0,0.97470975,0.0,0.0,0.0,0.0,0.98683655,0.44537726,0.020211441,0.0,0.0,0.0,0.0,0.0,0.9889096,0.0,0.0,0.0,0.0,0.0,0.0,0.0,0.0,0.0,0.0,0.0,0.5252902,0.25912103,0.0,0.0,0.0,0.88567567,0.24087892,0.9827943,0.035862353,0.0,0.9767827,0.0,0.0,0.0,0.0,0.0,0.0,0.0,0.9889096,0.0,0.0,0.0,0.3309494,0.9757462,0.0,0.0,0.0,0.25103647,0.9655887,0.0,0.0,0.9889096,0.0,0.0,0.2136194,0.9797885,0.0,0.0,0.0,0.0,0.0,0.0,0.0,0.0,0.5991915,0.0,0.0,0.0,0.0,0.99999994,0.0,0.0,0.94340783,0.0,0.0,0.98383075,0.97470975,0.28741705,0.4544983,0.0,0.0,0.0,0.99191535,0.0,0.0,0.0,0.439262,0.98683655,0.47574624,0.0,0.0,0.98383075,0.0,0.0,0.0,0.0,0.0,0.9737768,0.0,0.0,0.0,0.0,0.0,0.0,0.0,0.97781914,0.0,0.0,0.0,0.0,0.40692365,0.0,0.0,0.0,0.96361935,0.5252902,0.0,0.0,0.9889096],\"name\":\"Infrared\"},{\"type\":\"box\",\"y\":[0.071725,0.487975,0.060799997,1.0,0.192425,0.043725,0.48439997,0.858925,0.0179,1.0,0.1547,0.158925,1.0,0.153925,0.390575,0.38825,0.020999998,0.10734999,1.0,0.016900001,0.48064998,0.14029999,0.026949998,0.72592497,0.0742,1.0,1.0,0.48409998,0.170025,1.0,0.18062499,1.0,0.050225,1.0,1.0,1.0,0.0332,0.99882495,1.0,1.0,0.017749999,0.871575,1.0,1.0,0.15117499,0.1525,0.057074998,0.38185,0.48575,1.0,1.0,0.222775,0.151925,1.0,0.234625,1.0,0.205175,0.38509998,0.38092497,0.384025,0.38744998,0.38522497,0.015974998,0.485575,0.124775,0.15089999,1.0,0.487975,0.176625,0.48357496,0.1344,0.14935,1.0,0.24087499,1.0,0.484225,0.38417497,0.049,0.22165,0.48334998,1.0,0.1479,1.0,0.387225,0.15052499,0.0511,1.0,0.38522497,0.22165,0.12705,0.484325,1.0,0.063175,0.1612,0.1501,0.16607499,0.049599998,0.384,0.025925,1.0,0.03595,0.91555,0.48459998,0.078099996,1.0,0.0874,0.485775,0.18377501,0.22604999,1.0,0.17954999,0.38615,0.19417499,1.0,0.48444998,0.147775,0.1878,0.79269993,1.0,0.15114999,0.14375,0.18557501,0.22202499,1.0,0.1485,0.1593,1.0,1.0,1.0,0.48665,0.19732499,0.021300001,0.176825,1.0,0.149925,0.38509998,0.0246,1.0,0.388375,1.0,0.170375,0.169125,0.483125,0.242525,1.0,0.48349997,0.160625,0.191075,0.814,0.060824998,0.387475,0.486725,1.0,0.0479,0.483375,1.0,0.387175,0.05025,0.14045,0.193325,1.0,1.0,1.0,0.0187,0.18545,0.141975,0.24282499,1.0,1.0,1.0,1.0,0.4836,0.483425,0.22895,0.38404998,0.483325,1.0,0.15114999,0.16569999,0.014625,1.0,0.148725,0.484325,0.483475,0.16594999,0.12479999,0.1744,0.192225,0.172275,0.147875,0.12505,0.48619998,1.0,0.094225,0.6074,0.015325,1.0,1.0,1.0,0.14802499,1.0,0.0701,0.16532499,1.0,0.16682501,0.22514999,0.0145000005,0.15439999,1.0,0.10325,0.070824996,1.0,0.16472499,1.0,1.0,0.146525,0.08545,0.15104999,1.0,0.1741,0.022,1.0,0.863575,1.0,0.487575,1.0,0.38625,1.0,1.0,0.4843,0.206525,0.115325,0.152025,0.12917499,0.48645,1.0,1.0,0.108575,0.48444998,1.0,1.0,1.0,0.14962499,1.0,0.484375,1.0,1.0,1.0,1.0,0.14147499,0.48569998,0.11479999,0.18465,0.156675,0.389475,1.0,0.1435,0.04695,0.19854999,0.111975,0.18715,0.48357496,1.0,1.0,1.0,0.2053,0.48334998,0.140425,0.070949994,0.388475,0.14525,0.48654997,0.15114999,0.4854,0.14289999,0.019775,1.0,0.041249998,1.0,0.014324999,0.054625,1.0,1.0,1.0,0.15365,0.1405,0.487575,1.0,0.392475,0.19055,0.188325,0.1017,1.0,0.484575,1.0,0.189675,0.4836,1.0,1.0,0.20989999,0.483325,0.916725,0.4833,0.17105,1.0,0.188775,1.0,1.0,1.0,1.0,0.16767499,1.0,0.016125,1.0,0.48659998,0.2341,1.0,0.21524999,0.02815,0.484375,0.012775,1.0,1.0,1.0,0.48349997,1.0,1.0,0.86480004,0.150125,0.045199998,0.38525,0.048899997,0.1442,0.486725,0.035025,1.0,0.021975,0.31452498,0.02405,1.0,1.0,1.0,1.0,0.122549996,0.14369999,0.1889,1.0,1.0,1.0,1.0,1.0,1.0,0.38327497,0.48334998,0.17559999,1.0,0.48439997,0.057524998,0.135725,0.14925,1.0,0.14265,0.390375,0.106149994,0.030199999,0.19504999,0.13655,0.48334998,0.13984999,0.18409999,0.80324996,1.0,0.15215,0.063049994,0.165475,0.38627496,0.16417499,1.0,0.1952,0.08835,0.010475,0.1906,0.0476,0.1597,0.03975,0.48349997,0.1893,0.0682,0.1793,1.0,0.061325,1.0,1.0,0.1617,0.23965,0.1101,0.16354999,1.0,0.387275,0.206725,0.38075,0.1993,0.487625,0.4843,0.151,1.0,0.3829,0.98579997,0.806575,0.103875,0.156,0.224725,0.15175,0.15027499,0.130325,0.1164,1.0,1.0,0.38205,0.488075,0.7543,0.138575,0.485075,0.037,0.197075,0.38622501,1.0,0.053375,1.0,0.45509997,0.14422499,0.1405,0.48349997,0.0128,0.029024998,1.0,0.1759,0.48439997,0.15052499,1.0,0.16319999,0.16622499,0.2412,0.1519,0.1528,1.0,0.38724998,1.0,0.48569998,0.15034999,1.0,0.18052499,0.144875,1.0,1.0,0.42624998,1.0,0.161175,0.16717501,0.165275,0.153075,0.161175,0.189125,0.0107,1.0,0.26775,0.0189,0.12392499,1.0,0.116000004,0.034649998,0.019775,1.0,0.14369999,0.044774998,1.0,0.17684999,0.138725,0.0188,0.023675,0.48575,1.0,1.0,0.18202499,0.14765,1.0,1.0,0.1443,0.04875,0.38627496,0.14299999,1.0,0.17577499,1.0,1.0,0.488075,1.0,1.0,0.42624998,1.0,0.12752499,0.22907498,0.153,0.389375,0.877,0.165375,0.192625,0.48575,0.015625,0.024625,0.019749999,0.99872494,0.147725,1.0,1.0,1.0,0.36569998,0.14722499,1.0,0.48645,0.48349997,0.15355,0.16055,0.14375,0.486375,0.38327497,0.18467501,0.0199,0.4843,1.0,1.0,0.48665,0.015349999,0.048649997,0.173675,0.59319997,0.13544999,1.0,0.02355,0.025275,0.31452498,0.209375,0.485075,0.19719999,0.163425,0.133975,1.0,0.159025,0.484375,0.484825,0.32479998,1.0,0.14015,0.1506,1.0,0.01265,0.48564997,0.48659998,1.0,0.15005,0.154175,1.0,0.0107,0.15405,1.0,0.485625,0.0221,0.19989999,0.16935,0.064050004,1.0,1.0,0.486375,0.1441,0.13565,0.16784999,0.15239999,1.0,0.484375,1.0,0.16749999,1.0,0.14784999,0.12274999,0.16517499,1.0,0.15355,1.0,0.1475,1.0,0.48575,0.48982498,0.222275,0.16315,0.484475,0.048125,1.0,0.154775,0.131275,1.0,1.0,0.16577499,0.484575,0.3807,0.017825,0.025975,1.0,1.0,0.016974999,0.10545,0.387225,0.147375,0.130925,1.0,0.05605,0.385325,0.38415,0.486525,0.3852,0.22415,0.485575,1.0,0.482775,0.224275,0.142125,0.48349997,0.17879999,0.48549998,1.0,0.484325,1.0,1.0,0.160925,1.0,1.0,0.0584,0.189525,1.0,0.147625,0.38407502,0.051999997,0.38622501,0.16245,0.38412496,0.48334998,0.91175,0.3904,1.0,0.149225,0.49072498,1.0,1.0,0.4854],\"name\":\"Distance\"}];\n",
       "            var layout = \"\";\n",
       "            Plotly.newPlot('84ad0383-cddf-4d87-9835-a1ee61cc05ef', data, layout);\n",
       "        \r\n",
       "});\r\n",
       "};\r\n",
       "if ((typeof(requirejs) !==  typeof(Function)) || (typeof(requirejs.config) !== typeof(Function))) { \r\n",
       "    var script = document.createElement(\"script\"); \r\n",
       "    script.setAttribute(\"src\", \"https://cdnjs.cloudflare.com/ajax/libs/require.js/2.3.6/require.min.js\"); \r\n",
       "    script.onload = function(){\r\n",
       "        renderPlotly();\r\n",
       "    };\r\n",
       "    document.getElementsByTagName(\"head\")[0].appendChild(script); \r\n",
       "}\r\n",
       "else {\r\n",
       "    renderPlotly();\r\n",
       "}\r\n",
       "</script>\r\n"
      ]
     },
     "metadata": {},
     "output_type": "display_data"
    }
   ],
   "source": [
    "var normalizedData = preprocessingPipeline.Fit(trainingData).Transform(trainingData);\n",
    "var features = normalizedData.GetColumn<float[]>(normalizedData.Schema[\"Features\"]).ToArray();\n",
    "var featuresTemperatures = features.Select(f => f[0]);\n",
    "var featuresLuminosities = features.Select(f => f[1]);\n",
    "var featuresInfrareds = features.Select(f => f[2]);\n",
    "var featuresDistances = features.Select(f => f[3]);\n",
    "\n",
    "var histogramFeatures = Chart.Plot(new[] {\n",
    "    new Graph.Box { y = featuresTemperatures, name = \"Temperature\" },\n",
    "    new Graph.Box { y = featuresLuminosities, name = \"Luminosity\" },\n",
    "    new Graph.Box { y = featuresInfrareds, name = \"Infrared\" },\n",
    "    new Graph.Box { y = featuresDistances, name = \"Distance\" }\n",
    "});\n",
    "display(histogramFeatures);"
   ]
  },
  {
   "cell_type": "markdown",
   "metadata": {},
   "source": [
    "### Cross validate"
   ]
  },
  {
   "cell_type": "code",
   "execution_count": 75,
   "metadata": {},
   "outputs": [],
   "source": [
    "var crossValidationResults = mlContext.MulticlassClassification.CrossValidate(trainingData, postprocessingPipeline, numberOfFolds: 5, labelColumnName: \"Label\");\n",
    "var metricsInMultipleFolds = crossValidationResults.Select(r => r.Metrics);"
   ]
  },
  {
   "cell_type": "code",
   "execution_count": 76,
   "metadata": {},
   "outputs": [],
   "source": [
    "var accuracyValues = metricsInMultipleFolds.Select(m => m.MicroAccuracy);\n",
    "var average = accuracyValues.Average();\n",
    "//var stdDev = CalculateStandardDeviation(accuracyValues);\n",
    "//var confInt = CalculateConfidenceInterval95(accuracyValues);\n",
    "//var microAccuracyValues = ExtractMetrics(metricsInMultipleFolds.Select(m => m.MicroAccuracy));\n",
    "\n",
    "//var macroAccuracyValues = ExtractMetrics(metricsInMultipleFolds.Select(m => m.MacroAccuracy));\n",
    "\n",
    "//var logLossValues = ExtractMetrics(metricsInMultipleFolds.Select(m => m.LogLoss));\n",
    "\n",
    "//var logLossReductionValues = ExtractMetrics(metricsInMultipleFolds.Select(m => m.LogLossReduction));"
   ]
  },
  {
   "cell_type": "code",
   "execution_count": 77,
   "metadata": {},
   "outputs": [
    {
     "data": {
      "text/html": [
       "<table><thead><tr><th><i>index</i></th><th>LogLoss</th><th>LogLossReduction</th><th>MacroAccuracy</th><th>MicroAccuracy</th><th>TopKAccuracy</th><th>TopKPredictionCount</th><th>PerClassLogLoss</th><th>ConfusionMatrix</th></tr></thead><tbody><tr><td>0</td><td>0.306801717107583</td><td>0.7713771429996593</td><td>0.975</td><td>0.9672131147540983</td><td>0</td><td>0</td><td>[ 0, 0, 0.9357452371781282, 0 ]</td><td>{ Microsoft.ML.Data.ConfusionMatrix: PerClassPrecision: [ 0.9069767441860465, 1, 1, 1 ], PerClassRecall: [ 1, 1, 0.9, 1 ], Counts: [ [ 39, 0, 0, 0 ], [ 0, 22, 0, 0 ], [ 4, 0, 36, 0 ], [ 0, 0, 0, 21 ] ], NumberOfClasses: 4 }</td></tr><tr><td>1</td><td>0.009109642112068874</td><td>0.9929946277353782</td><td>0.9708538587848932</td><td>0.9664429530201343</td><td>0</td><td>0</td><td>[ 0, 0, 0, 0.0646350797475363 ]</td><td>{ Microsoft.ML.Data.ConfusionMatrix: PerClassPrecision: [ 0.9019607843137255, 1, 1, 1 ], PerClassRecall: [ 1, 1, 0.9310344827586207, 0.9523809523809523 ], Counts: [ [ 46, 0, 0, 0 ], [ 0, 24, 0, 0 ], [ 4, 0, 54, 0 ], [ 1, 0, 0, 20 ] ], NumberOfClasses: 4 }</td></tr><tr><td>2</td><td>0.009461109140183813</td><td>0.9926541969872463</td><td>0.968121693121693</td><td>0.9603174603174603</td><td>0</td><td>0</td><td>[ 0, 0, 0.028383327420551437, 0 ]</td><td>{ Microsoft.ML.Data.ConfusionMatrix: PerClassPrecision: [ 0.9767441860465116, 1, 0.9111111111111111, 1 ], PerClassRecall: [ 0.9333333333333333, 1, 0.9761904761904762, 0.9629629629629629 ], Counts: [ [ 42, 0, 3, 0 ], [ 0, 12, 0, 0 ], [ 1, 0, 41, 0 ], [ 0, 0, 1, 26 ] ], NumberOfClasses: 4 }</td></tr><tr><td>3</td><td>0</td><td>1</td><td>0.9951923076923077</td><td>0.992</td><td>0</td><td>0</td><td>[ 0, 0, 0, 0 ]</td><td>{ Microsoft.ML.Data.ConfusionMatrix: PerClassPrecision: [ 0.9666666666666667, 1, 1, 1 ], PerClassRecall: [ 1, 1, 0.9807692307692307, 1 ], Counts: [ [ 29, 0, 0, 0 ], [ 0, 19, 0, 0 ], [ 1, 0, 51, 0 ], [ 0, 0, 0, 25 ] ], NumberOfClasses: 4 }</td></tr><tr><td>4</td><td>0.8315964831403551</td><td>0.3843805661716329</td><td>0.9563301282051282</td><td>0.9618320610687023</td><td>0</td><td>0</td><td>[ 0, 0, 0.04064323727289541, 4.1149332270110595 ]</td><td>{ Microsoft.ML.Data.ConfusionMatrix: PerClassPrecision: [ 0.9117647058823529, 1, 0.9591836734693877, 1 ], PerClassRecall: [ 1, 1, 0.9791666666666666, 0.8461538461538461 ], Counts: [ [ 31, 0, 0, 0 ], [ 0, 26, 0, 0 ], [ 1, 0, 47, 0 ], [ 2, 0, 2, 22 ] ], NumberOfClasses: 4 }</td></tr></tbody></table>"
      ]
     },
     "metadata": {},
     "output_type": "display_data"
    }
   ],
   "source": [
    "display(metricsInMultipleFolds);"
   ]
  },
  {
   "cell_type": "markdown",
   "metadata": {},
   "source": [
    "### Evaluate the model against the testing data (measure the model performance)"
   ]
  },
  {
   "cell_type": "code",
   "execution_count": 78,
   "metadata": {},
   "outputs": [
    {
     "data": {
      "text/html": [
       "<div id=\"68e1d0dc-fcd8-4ceb-81fe-1fcd26f9ae64\" style=\"width: 900px; height: 500px;\"></div>\r\n",
       "<script type=\"text/javascript\">\r\n",
       "\r\n",
       "var renderPlotly = function() {\r\n",
       "    var xplotRequire = requirejs.config({context:'xplot-3.0.1',paths:{plotly:'https://cdn.plot.ly/plotly-1.49.2.min'}});\r\n",
       "    xplotRequire(['plotly'], function(Plotly) {\r\n",
       "\n",
       "            var data = [{\"type\":\"bar\",\"x\":[0.9120689655172414,0.9466666666666667,0.2302585092752213,0.8205554012531054,0.0,0.0,0.0,2.3025850927522127],\"y\":[\"MacroAccuracy\",\"MicroAccuracy\",\"LogLoss\",\"LogLossReduction\",\"TemperatureLL\",\"LuminosityLL\",\"InfraredLL\",\"DistanceLL\"],\"orientation\":\"h\",\"name\":\"\"}];\n",
       "            var layout = \"\";\n",
       "            Plotly.newPlot('68e1d0dc-fcd8-4ceb-81fe-1fcd26f9ae64', data, layout);\n",
       "        \r\n",
       "});\r\n",
       "};\r\n",
       "if ((typeof(requirejs) !==  typeof(Function)) || (typeof(requirejs.config) !== typeof(Function))) { \r\n",
       "    var script = document.createElement(\"script\"); \r\n",
       "    script.setAttribute(\"src\", \"https://cdnjs.cloudflare.com/ajax/libs/require.js/2.3.6/require.min.js\"); \r\n",
       "    script.onload = function(){\r\n",
       "        renderPlotly();\r\n",
       "    };\r\n",
       "    document.getElementsByTagName(\"head\")[0].appendChild(script); \r\n",
       "}\r\n",
       "else {\r\n",
       "    renderPlotly();\r\n",
       "}\r\n",
       "</script>\r\n"
      ]
     },
     "metadata": {},
     "output_type": "display_data"
    }
   ],
   "source": [
    "var predictions = model.Transform(testingData);\n",
    "var metrics = mlContext.MulticlassClassification.Evaluate(predictions, \"Label\", \"Score\", \"PredictedLabel\");\n",
    "var metricsColumns = new List<string> { \"MacroAccuracy\", \"MicroAccuracy\", \"LogLoss\", \"LogLossReduction\" };\n",
    "for (var i = 0; i < metrics.PerClassLogLoss.Count; i++)\n",
    "{\n",
    "    metricsColumns.Add($\"{featureColumns[i]}LL\");\n",
    "}\n",
    "var metricsValues = new List<double>\n",
    "{ \n",
    "    metrics.MacroAccuracy, \n",
    "    metrics.MicroAccuracy, \n",
    "    metrics.LogLoss, \n",
    "    metrics.LogLossReduction\n",
    "};\n",
    "metricsValues.AddRange(metrics.PerClassLogLoss);\n",
    "\n",
    "var metricsDiagram = Chart.Plot(new Graph.Bar()\n",
    "{\n",
    "    x = metricsValues,\n",
    "    y = metricsColumns,\n",
    "    orientation = \"h\", name = \"\"    \n",
    "});\n",
    "display(metricsDiagram);"
   ]
  },
  {
   "cell_type": "code",
   "execution_count": 79,
   "metadata": {},
   "outputs": [
    {
     "data": {
      "text/plain": [
       "\r\n",
       "Confusion table\r\n",
       "              ||================================\r\n",
       "PREDICTED     ||     0 |     1 |     2 |     3 | Recall\r\n",
       "TRUTH         ||================================\r\n",
       "0.        Day ||    47 |     0 |     0 |     0 | 1.0000\r\n",
       "1.    Lighter ||     0 |    29 |     0 |     1 | 0.9667\r\n",
       "2. FlashLight ||     3 |     0 |    55 |     0 | 0.9483\r\n",
       "3.   Infrared ||     2 |     0 |     2 |    11 | 0.7333\r\n",
       "              ||================================\r\n",
       "Precision     ||0.9038 |1.0000 |0.9649 |0.9167 |\r\n"
      ]
     },
     "metadata": {},
     "output_type": "display_data"
    }
   ],
   "source": [
    "display(metrics.ConfusionMatrix.GetFormattedConfusionTable());"
   ]
  },
  {
   "cell_type": "code",
   "execution_count": 80,
   "metadata": {},
   "outputs": [
    {
     "data": {
      "text/html": [
       "<table><thead><tr><th><i>index</i></th><th>value</th></tr></thead><tbody><tr><td>0</td><td>Temperature</td></tr><tr><td>1</td><td>Luminosity</td></tr><tr><td>2</td><td>Infrared</td></tr><tr><td>3</td><td>Distance</td></tr></tbody></table>"
      ]
     },
     "metadata": {},
     "output_type": "display_data"
    }
   ],
   "source": [
    "//var categories = trainingData.GetColumn<string>(\"Label\");\n",
    "\n",
    "\n",
    "List<string> categories = new List<string> {\"Temperature\", \"Luminosity\", \"Infrared\", \"Distance\"};\n",
    "display(categories);"
   ]
  },
  {
   "cell_type": "code",
   "execution_count": 130,
   "metadata": {},
   "outputs": [
    {
     "data": {
      "text/html": [
       "<table style=\"margin: 80px; \"><tbody><tr style=\"background-color: transparent\"><td colspan=\"2\" rowspan=\"2\" style=\"padding: 8px; background-color: lightsteelblue; text-align: center; \">Confusion Matrix</td><td colspan=\"4\" style=\"padding: 8px; background-color: lightsteelblue; text-align: center; \">Predicted</td><td style=\"padding: 8px; background-color: lightsteelblue; \"></td></tr><tr style=\"background-color: transparent\"><td style=\"padding: 8px; font-weight: bold; background-color: #E3EAF3; \">Temperature</td><td style=\"padding: 8px; font-weight: bold; background-color: #E3EAF3; \">Luminosity</td><td style=\"padding: 8px; font-weight: bold; background-color: #E3EAF3; \">Infrared</td><td style=\"padding: 8px; font-weight: bold; background-color: #E3EAF3; \">Distance</td><td style=\"padding: 8px; background-color: lightsteelblue; \">Recall</td></tr><tr style=\"background-color: transparent\"><td rowspan=\"4\" style=\"padding: 8px; background-color: lightsteelblue; \">Truth</td><td style=\"padding: 8px; font-weight: bold; background-color: #E3EAF3; \">Temperature</td><td style=\"padding: 8px; \">47</td><td style=\"padding: 8px; \">0</td><td style=\"padding: 8px; \">0</td><td style=\"padding: 8px; \">0</td><td style=\"padding: 8px; background-color: #E3EAF3; \">1</td></tr><tr style=\"background-color: transparent\"><td style=\"padding: 8px; font-weight: bold; background-color: #E3EAF3; \">Luminosity</td><td style=\"padding: 8px; \">0</td><td style=\"padding: 8px; \">29</td><td style=\"padding: 8px; \">0</td><td style=\"padding: 8px; \">1</td><td style=\"padding: 8px; background-color: #E3EAF3; \">0.9667</td></tr><tr style=\"background-color: transparent\"><td style=\"padding: 8px; font-weight: bold; background-color: #E3EAF3; \">Infrared</td><td style=\"padding: 8px; \">3</td><td style=\"padding: 8px; \">0</td><td style=\"padding: 8px; \">55</td><td style=\"padding: 8px; \">0</td><td style=\"padding: 8px; background-color: #E3EAF3; \">0.9483</td></tr><tr style=\"background-color: transparent\"><td style=\"padding: 8px; font-weight: bold; background-color: #E3EAF3; \">Distance</td><td style=\"padding: 8px; \">2</td><td style=\"padding: 8px; \">0</td><td style=\"padding: 8px; \">2</td><td style=\"padding: 8px; \">11</td><td style=\"padding: 8px; background-color: #E3EAF3; \">0.7333</td></tr><tr style=\"background-color: transparent\"><td colspan=\"2\" style=\"padding: 8px; background-color: lightsteelblue; \">Precision</td><td style=\"padding: 8px; background-color: #E3EAF3; \">0.9038</td><td style=\"padding: 8px; background-color: #E3EAF3; \">1</td><td style=\"padding: 8px; background-color: #E3EAF3; \">0.9649</td><td style=\"padding: 8px; background-color: #E3EAF3; \">0.9167</td><td style=\"padding: 8px; background-color: #E3EAF3; \">total = 150</td></tr></tbody></table>"
      ]
     },
     "metadata": {},
     "output_type": "display_data"
    }
   ],
   "source": [
    "using Microsoft.AspNetCore.Html;\n",
    "using System.Collections.Generic;\n",
    "using Microsoft.DotNet.Interactive.Formatting;\n",
    "using System.Linq;\n",
    "\n",
    "Formatter<ConfusionMatrix>.Register((df, writer) =>\n",
    "{\n",
    "    var cssFirstColor = \"background-color: lightsteelblue; \";\n",
    "    var cssSecondColor = \"background-color: #E3EAF3; \";\n",
    "    var cssTransparent = \"background-color: transparent\";\n",
    "    var cssBold = \"font-weight: bold; \";\n",
    "    var cssPadding = \"padding: 8px; \";\n",
    "    var cssCenterAlign = \"text-align: center; \";\n",
    "    var cssTable = \"margin: 50px; \";\n",
    "    var cssTitle  = cssPadding +  cssFirstColor;\n",
    "    var cssHeader = cssPadding + cssBold + cssSecondColor;\n",
    "    var cssCount = cssPadding;\n",
    "    var cssFormula = cssPadding + cssSecondColor;\n",
    "    \n",
    "    var rows = new List<IHtmlContent>();\n",
    "    \n",
    "    // header\n",
    "    var cells = new List<IHtmlContent>();\n",
    "    cells.Add(td[rowspan: 2, colspan: 2, style: cssTitle + cssCenterAlign](\"Confusion Matrix\"));\n",
    "    cells.Add(td[colspan: df.Counts.Count, style: cssTitle + cssCenterAlign](\"Predicted\"));\n",
    "    cells.Add(td[style: cssTitle](\"\"));\n",
    "    rows.Add(tr[style: cssTransparent](cells));\n",
    "\n",
    "    // features header\n",
    "    cells = new List<IHtmlContent>();\n",
    "    for (int j = 0; j < df.Counts.Count; j++)\n",
    "    {\n",
    "        cells.Add(td[style: cssHeader](categories.ToList()[j]));\n",
    "    }\n",
    "    rows.Add(tr[style: cssTransparent](cells));\n",
    "    cells.Add(td[style: cssTitle](\"Recall\"));\n",
    "\n",
    "    // values\n",
    "    for (int i = 0; i < df.NumberOfClasses; i++)\n",
    "    {\n",
    "        cells = new List<IHtmlContent>();\n",
    "        if (i == 0)\n",
    "        {\n",
    "            cells.Add(td[rowspan: df.Counts.Count, style: cssTitle](\"Truth\"));\n",
    "        }\n",
    "        cells.Add(td[style: cssHeader](categories.ToList()[i]));\n",
    "        for (int j = 0; j < df.NumberOfClasses; j++)\n",
    "        {\n",
    "            cells.Add(td[style: cssCount](df.Counts[i][j]));\n",
    "        }\n",
    "        cells.Add(td[style: cssFormula](Math.Round(df.PerClassRecall[i], 4)));\n",
    "        rows.Add(tr[style: cssTransparent](cells));\n",
    "    }\n",
    "\n",
    "    //footer\n",
    "    cells = new List<IHtmlContent>();\n",
    "    cells.Add(td[colspan: 2, style: cssTitle](\"Precision\"));\n",
    "    for (int j = 0; j < df.Counts.Count; j++)\n",
    "    {\n",
    "        cells.Add(td[style: cssFormula](Math.Round(df.PerClassPrecision[j], 4)));\n",
    "    }\n",
    "    cells.Add(td[style: cssFormula](\"total = \" + df.Counts.Sum(x => x.Sum())));\n",
    "    rows.Add(tr[style: cssTransparent](cells));\n",
    "\n",
    "    writer.Write(table[style: cssTable](tbody(rows)));\n",
    "}, \"text/html\");\n",
    "\n",
    "display(metrics.ConfusionMatrix);"
   ]
  },
  {
   "cell_type": "code",
   "execution_count": 82,
   "metadata": {},
   "outputs": [
    {
     "data": {
      "text/html": [
       "<div id=\"72f5df71-b982-4f64-bdc4-d259ceb1f899\" style=\"width: 900px; height: 500px;\"></div>\r\n",
       "<script type=\"text/javascript\">\r\n",
       "\r\n",
       "var renderPlotly = function() {\r\n",
       "    var xplotRequire = requirejs.config({context:'xplot-3.0.1',paths:{plotly:'https://cdn.plot.ly/plotly-1.49.2.min'}});\r\n",
       "    xplotRequire(['plotly'], function(Plotly) {\r\n",
       "\n",
       "            var data = [{\"type\":\"scatter\",\"x\":[0.20468135,0.73145914,0.19647628,0.5182547,0.20468135,0.15443328,0.17389646,0.14934486,0.21695714,0.20264599,0.19234194,0.20468135,0.3378705,0.20468135,0.15665945,0.15029894,0.21288641,0.20468135,0.2067167,0.22923294,0.17389646,0.33583513,0.15545097,0.15138023,0.20468135,0.19030659,0.24157232,0.59820634,0.20468135,0.47525764,0.27432898,0.6904338,0.19647628,0.19647628,0.2067167,0.19234194,0.16162066,0.14934486,0.19234194,0.2067167,0.3911716,0.2067167,0.20468135,0.19851165,0.19851165,0.20468135,0.2067167,0.16779035,0.17389646,0.23336725,0.19234194,0.15545097,0.20264599,0.20468135,0.16162066,0.2067167,0.15754993,0.16982573,0.16779035,0.15462409,0.15239792,0.15239792,0.14807278,0.1595853,0.20468135,0.20468135,0.2067167,0.73145914,0.15754993,0.16162066,0.2067167,0.20468135,0.20468135,0.1595853,0.20468135,0.15545097,0.15665945,0.19851165,0.1595853,0.17599542,0.16162066,0.2067167,0.15812239,0.15239792,0.20264599,0.19851165,0.15545097,0.15029894,0.1595853,0.20468135,0.15545097,0.19234194,0.20264599,0.20468135,0.19234194,0.2067167,0.1646737,0.16301997,0.14807278,0.1595853,0.16162066,0.15545097,0.17389646,0.20468135,0.321524,0.20468135,0.17389646,0.20468135,0.15754993,0.1595853,0.1595853,0.5552093,0.20468135,0.15786795,0.15545097,0.2067167,0.20468135,0.1534156,0.1595853,0.19851165,0.19444092,0.20468135,0.1595853,0.1595853,0.2620532,0.2067167,0.20468135,0.1646737,0.2067167,0.15545097,0.20468135,0.1535428,0.23336725,0.20468135,0.20468135,0.16779035,0.15990332,0.21078743,0.15665945,0.2189925,0.15754993,0.20468135,0.1534156,0.15754993,0.20054701,0.1595853,0.2067167,0.20468135,0.15138023,0.19647628,0.40948987,0.17599542,0.19234194,0.20468135,0.5654497,0.20468135,0.5859306,0.20264599,0.2067167,0.1595853,0.2067167,0.20468135,0.42602727,0.1535428,0.20468135,0.2067167,0.1595853,0.2067167,0.20468135,0.15665945,0.19851165,0.17389646,0.17389646,0.1595853,0.4506424,0.1595853,0.19851165,0.19234194,0.2067167,0.30097952,0.41375145,0.20054701,0.15545097,0.17599542,0.20468135,0.43016154,0.22516221,0.1595853,0.15545097,0.19234194,0.20468135,0.64743674,0.20468135,0.1534156,0.15754993,0.15754993,0.32355934,0.2067167,0.20468135,0.20468135,0.19234194,0.20468135,0.20468135,0.6187508,0.2067167,0.1595853,0.27229363,0.20468135,0.19234194,0.48753342,0.20468135,0.20468135,0.2067167,0.20468135,0.24774203,0.19851165,0.20468135,0.2067167,0.2067167,0.15545097,0.1535428,0.20468135,0.76014507,0.20468135,0.15754993,0.16779035,0.15665945,0.23540261,0.19234194,0.1595853,0.20468135,0.30511388,0.5203536,0.2067167,0.15545097,0.15545097,0.1595853,0.20468135,0.15545097,0.20468135,0.1595853,0.1595853,0.19234194,0.2067167,0.15545097,0.19851165,0.20468135,0.3727261,0.19234194,0.20468135,0.17599542,0.641267,0.14934486,0.19234194,0.14807278,0.22312684,0.33583513,0.18420048,0.15754993,0.21695714,0.20468135,0.16162066,0.20468135,0.20264599,0.2067167,0.1595853,0.17599542,0.3133189,0.20264599,0.15239792,0.20468135,0.15545097,0.19234194,0.15754993,0.19234194,0.44243735,0.20264599,0.20468135,0.19851165,0.7027732,0.15506932,0.20468135,0.20468135,0.15583259,0.2189925,0.2067167,0.15754993,0.1646737,0.14807278,0.20468135,0.20468135,0.54490525,0.2067167,0.17389646,0.20468135,0.20468135,0.18210152,0.2067167,0.2067167,0.1595853,0.1595853,0.15545097,0.16162066,0.15545097,0.3563796,0.20468135,0.19234194,0.284633,0.1595853,0.20264599,0.15754993,0.1595853,0.15850401,0.20468135,0.15545097,0.1595853,0.1595853,0.1595853,0.14807278,0.15545097,0.16779035,0.40739095,0.1595853,0.22923294,0.1595853,0.5736548,0.2067167,0.4650172,0.20468135,0.1646737,0.15462409,0.16034855,0.19234194,0.17599542,0.16162066,0.20468135,0.1535428,0.17389646,0.14807278,0.2067167,0.16779035,0.20875207,0.3563796,0.2067167,0.18827122,0.20468135,0.21695714,0.20468135,0.1595853,0.1595853,0.22312684,0.23133188,0.17389646,0.17599542,0.20468135,0.20054701,0.1595853,0.19851165,0.20875207,0.19030659,0.20468135,0.19234194,0.14807278,0.35428065,0.14807278,0.20468135,0.20468135,0.17599542,0.20468135,0.14934486,0.1534156,0.20468135,0.19030659,0.20054701,0.15754993,0.15665945,0.2067167,0.2067167,0.20468135,0.2067167,0.65150744,0.20468135,0.1646737,0.14934486,0.2067167,0.17599542,0.20468135,0.20264599,0.20468135,0.20468135,0.20468135,0.5674851,0.2067167,0.15754993,0.14934486,0.2189925,0.20468135,0.20468135,0.15665945,0.1595853,0.15443328,0.1595853,0.1534156,0.15545097,0.19234194,0.21288641,0.16779035,0.14934486,0.15754993,0.30097952,0.2067167,0.15754993,0.19851165,0.19234194,0.20468135,0.23133188,0.20264599,0.5654497,0.5777255,0.84213203,0.15754993,0.21078743,0.16162066,0.14807278,0.15754993,0.15646864,0.19234194,0.2067167,0.20468135,0.17803079,0.20468135,0.2067167,0.1595853,0.40739095,0.14934486,0.20468135,0.20468135,0.17389646,0.20264599,0.20468135,0.2067167,0.20468135,0.1595853,1.0,0.20264599,0.20468135,0.15029894,0.1595853,0.17599542,0.20468135,0.20468135,0.20468135,0.2067167,0.47112328,0.20468135,0.17389646,0.15138023,0.2067167,0.2067167,0.15754993,0.20468135,0.2067167,0.20468135,0.6945681,0.2067167,0.20468135,0.31128356,0.2067167,0.19030659,0.23133188,0.15138023,0.22923294,0.1595853,0.19234194,0.19030659,0.19234194,0.20468135,0.2067167,0.23133188,0.6125811,0.17599542,0.20264599,0.5695204,0.20468135,0.20468135,0.2067167,0.15754993,0.20468135,0.19030659,0.15239792,0.19234194,0.2969088,0.22109146,0.2067167,0.20468135,0.84213203,0.20468135,0.22516221,0.17389646,0.19234194,0.3624857,0.15754993,0.20468135,0.40739095,0.1534156,0.15545097,0.1595853,0.17599542,0.52645975,0.16422847,0.6064114,0.14934486,0.23133188,0.1595853,0.15754993,0.41292456,0.17389646,0.2067167,0.20468135,0.15545097,0.17599542,0.20468135,0.2067167,0.19234194,0.1595853,0.17389646,0.1595853,0.20468135,0.15545097,0.20468135,0.2067167,0.15545097,0.14807278,0.20468135,0.23336725,0.63306195,0.19234194,0.20054701,0.1535428,0.14807278,0.17389646,0.1595853,0.16162066,0.20468135,0.20468135,0.21695714,0.15754993,0.20468135,0.15545097,0.17389646,0.17389646,0.20468135,0.2067167,0.15754993,0.19234194,0.16779035,0.17389646,0.15545097,0.15754993,0.19234194,0.19234194,0.9753849,0.68432766,0.20468135,0.19647628,0.17389646,0.15786795,0.1595853,0.20468135,0.20264599,0.2067167,0.19851165,0.1595853,0.20468135,0.20875207,0.1534156,0.19030659,0.19647628,0.15545097,0.2067167,0.20264599,0.19030659,0.41578683,0.2067167,0.2067167,0.28666836,0.20264599,0.20468135,0.20468135,0.3317644,0.17389646,0.17389646,0.15754993,0.2067167,0.15545097,0.20468135,0.21695714,0.20264599,0.2067167,0.20468135,0.20468135,0.2067167,0.17389646,0.16263834,0.1535428,0.14807278,0.3932706,0.2067167,0.1535428,0.23133188,0.15506932,0.19234194,0.2067167,0.20468135,0.20264599,0.15029894,0.41317898,0.15545097,0.15443328,0.20468135,0.604376,0.34200484,0.61461645,0.1595853,0.20468135,0.1595853,0.15754993,0.17389646,0.19234194,0.15545097,0.15545097,0.2189925,0.19851165,0.15754993,0.20468135,0.2067167,0.20468135,0.15545097,0.20468135,0.6248569,0.20468135,0.16301997,0.2067167,0.15665945,0.5531103,0.1534156,0.15029894,0.2067167,0.19234194,0.6248569,0.1595853,0.1595853,0.15754993],\"y\":[0.0684,1.0,0.73440003,1.0,0.0664,0.1445,0.70019996,0.876,1.0,0.5752,0.1113,0.043899998,1.0,0.2979,0.053699996,0.041999996,1.0,1.0,1.0,1.0,0.71879995,1.0,1.0,0.66410005,0.0732,0.3008,1.0,1.0,0.0508,1.0,1.0,1.0,0.24409999,0.74410003,0.5078,0.4131,0.1191,0.78999996,0.417,0.95309997,1.0,0.72749996,0.061499998,0.5664,0.0547,0.41599998,0.6133,0.2109,0.7432,1.0,0.3164,0.126,0.6846,0.0586,0.0928,1.0,0.125,0.19139999,0.2197,0.1875,0.1064,0.040999997,1.0,0.3516,0.3711,0.1719,0.64839995,1.0,0.081999995,0.3506,0.126,0.125,0.54389995,0.122099996,0.1455,0.2578,0.040999997,0.4258,0.122999996,0.75589997,0.1143,0.54389995,0.0703,0.090799995,0.5361,0.749,0.8232,0.040999997,0.1289,0.5205,0.26459998,0.29299998,0.85059994,0.6416,0.1865,0.8583999,0.2559,0.040999997,0.6162,0.126,0.113299996,0.6318,0.7354,0.3223,1.0,0.053699996,0.7383,0.049799997,0.13479999,0.12399999,0.1201,1.0,0.0586,0.0654,0.2588,0.5479,0.0664,0.79489994,0.1191,0.6016,0.2578,0.061499998,0.12789999,0.12109999,1.0,0.6055,0.043899998,0.249,0.8583999,0.2598,0.0605,0.5029,1.0,0.35349998,0.1504,0.22749999,0.49319997,1.0,0.040999997,1.0,0.8711,0.043,0.249,0.1406,0.8672,0.35939997,0.73139995,0.043899998,0.8867,0.5244,1.0,0.75,0.3164,0.1172,1.0,0.249,1.0,1.0,0.28809997,0.1191,0.60639995,0.5586,1.0,1.0,0.0605,0.3447,0.1299,0.3789,0.0488,0.040999997,0.6914,0.7529,0.7148,0.122099996,1.0,0.3545,0.3389,0.2656,0.9141,1.0,1.0,0.6807,0.25489998,0.73629993,0.052699998,1.0,1.0,0.1191,0.835,0.2383,0.46189997,1.0,0.19729999,0.8154,0.6396,0.10739999,1.0,0.88379997,0.063499995,0.1768,0.32709998,0.049799997,0.040999997,1.0,0.72069997,0.1201,1.0,0.5781,0.27049997,1.0,0.6846,0.7891,0.6924,0.6572,1.0,0.3633,0.053699996,0.8828,0.1934,0.9561,0.624,0.052699998,1.0,0.31739998,0.2559,0.21,0.04,1.0,0.2051,0.3574,0.0654,1.0,1.0,0.044899996,0.2539,0.8026999,0.1318,0.5,0.2588,0.044899996,0.12109999,0.12399999,0.24319999,1.0,0.26459998,0.63769996,0.7266,1.0,0.3359,0.3223,0.71779996,1.0,0.93160003,0.35939997,0.39939997,1.0,1.0,0.0654,0.122999996,1.0,0.044899996,0.3506,1.0,0.49119997,0.5703,0.12109999,0.75589997,1.0,0.6016,0.0771,0.4258,0.2578,0.2197,0.36619997,0.292,1.0,0.45119998,1.0,0.34669998,1.0,0.19729999,0.0684,0.35639998,0.081099994,1.0,0.22749999,0.2559,0.3418,0.54099995,0.0625,0.044899996,1.0,0.045900002,0.7333999,0.07619999,0.0469,0.749,0.3154,0.5693,0.1191,0.3545,0.6758,0.36519998,0.8955,1.0,0.043899998,0.2969,0.88769996,0.1309,1.0,0.8926,0.125,0.457,0.6113,0.2598,0.113299996,0.1182,0.122999996,0.66499996,0.25489998,0.2344,0.8232,0.12109999,1.0,0.35939997,1.0,0.2744,1.0,0.3096,0.24509999,0.3799,0.33689997,0.2852,0.75,0.1182,0.0625,0.4082,0.73730004,0.5732,0.7578,0.18360001,1.0,1.0,0.1943,0.100600004,0.056599997,1.0,0.251,0.12399999,0.12109999,1.0,1.0,0.70699996,0.73050004,0.043,0.7158,0.3574,0.32419997,0.6455,0.2061,0.42970002,0.1025,0.5557,1.0,0.45509997,0.0508,0.4854,0.73050004,0.38959998,0.9276999,0.5479,0.0625,0.14359999,0.5986,0.82129997,0.040999997,0.7676,0.4883,0.0654,0.5674,1.0,0.051799998,0.2783,0.8369,0.4365,0.73239994,0.0664,0.6875,0.041999996,0.0703,0.0488,1.0,0.5488,0.833,0.84669995,1.0,0.0664,0.0479,0.041999996,0.1094,1.0,0.1201,0.2588,0.24409999,0.3135,1.0,0.21579999,0.83589995,0.6914,1.0,0.8583999,0.1396,0.4883,0.2734,0.543,1.0,0.65819997,1.0,1.0,1.0,0.64059997,1.0,0.36519998,0.090799995,0.6094,0.0605,0.1172,0.59569997,0.0469,0.7451,0.35939997,0.25,0.3486,0.66800004,0.9033,0.057600003,0.0596,0.70019996,0.29389998,0.5029,1.0,0.043899998,0.122999996,1.0,0.4854,0.95019996,0.043,0.122999996,0.71779996,0.27049997,0.2959,0.045900002,0.74410003,1.0,0.0586,0.7197,0.6191,0.72069997,0.72269994,0.86230004,0.2285,0.9004,0.049799997,1.0,0.0596,0.18159999,1.0,0.34669998,0.30179998,1.0,0.6562,1.0,0.1104,0.2617,0.33009997,0.4629,0.0596,0.82809997,1.0,1.0,0.7617,0.66800004,1.0,0.051799998,0.1289,0.5283,0.1748,0.3223,0.3506,0.08979999,0.41889998,1.0,0.0947,0.70699996,0.3008,1.0,0.1104,1.0,0.7197,0.3281,1.0,0.126,0.6953,0.97459996,0.6914,0.84769994,0.1182,0.7617,1.0,0.48049998,1.0,0.84769994,1.0,0.12109999,0.18549998,1.0,0.7461,0.5469,0.18459998,0.2539,0.73239994,0.582,0.7979,0.3096,0.3584,0.70699996,0.12109999,1.0,0.24409999,0.2725,1.0,0.2598,0.86910003,0.049799997,1.0,1.0,0.115200005,0.71089995,0.501,0.60249996,0.73730004,0.1191,0.36519998,0.057600003,0.0469,0.82809997,0.1191,0.5537,0.2656,0.7578,0.73629993,0.044899996,1.0,0.125,0.5557,0.18069999,0.70309997,0.25489998,0.1182,0.6416,0.3389,1.0,1.0,0.0664,0.2686,0.72269994,0.5049,0.1201,0.040999997,0.2793,0.8633,0.70699996,0.3584,1.0,0.89059997,0.84769994,0.3008,0.2676,0.26459998,0.5283,0.041999996,0.2744,1.0,0.9414,0.60639995,1.0,0.6006,0.0557,0.38669997,1.0,0.7401999,0.72949994,0.1143,0.79690003,0.2588,0.78809994,1.0,0.5635,0.50879997,0.3311,0.053699996,0.8516,0.7333999,1.0,1.0,0.6904,1.0,1.0,0.42869997,1.0,0.18259999,0.44529998,0.2852,0.06739999,0.8369,0.040999997,1.0,0.2568,0.063499995,0.0479,1.0,1.0,1.0,0.126,0.39549997,0.3486,0.64059997,0.6982,0.3477,0.26459998,0.12399999,1.0,0.5508,0.125,0.0625,0.36819997,0.0508,0.1172,0.52639997,1.0,0.582,0.041999996,0.6396,0.041999996,1.0,1.0,0.040999997,0.5352,0.5869,1.0,0.12109999,0.122999996,0.36619997],\"mode\":\"markers\",\"marker\":{\"color\":\"red\",\"colorscale\":\"Jet\"}}];\n",
       "            var layout = \"\";\n",
       "            Plotly.newPlot('72f5df71-b982-4f64-bdc4-d259ceb1f899', data, layout);\n",
       "        \r\n",
       "});\r\n",
       "};\r\n",
       "if ((typeof(requirejs) !==  typeof(Function)) || (typeof(requirejs.config) !== typeof(Function))) { \r\n",
       "    var script = document.createElement(\"script\"); \r\n",
       "    script.setAttribute(\"src\", \"https://cdnjs.cloudflare.com/ajax/libs/require.js/2.3.6/require.min.js\"); \r\n",
       "    script.onload = function(){\r\n",
       "        renderPlotly();\r\n",
       "    };\r\n",
       "    document.getElementsByTagName(\"head\")[0].appendChild(script); \r\n",
       "}\r\n",
       "else {\r\n",
       "    renderPlotly();\r\n",
       "}\r\n",
       "</script>\r\n"
      ]
     },
     "metadata": {},
     "output_type": "display_data"
    }
   ],
   "source": [
    "var scatterMatrixDistanceTemperature = Chart.Plot(\n",
    "    new Graph.Scatter \n",
    "    {\n",
    "        x = featuresTemperatures,\n",
    "        y = featuresLuminosities,\n",
    "        mode = \"markers\",\n",
    "        marker = new Graph.Marker()\n",
    "        {\n",
    "            color = \"red\",\n",
    "            colorscale = \"Jet\"\n",
    "        }\n",
    "    }\n",
    ");\n",
    "display(scatterMatrixDistanceTemperature);"
   ]
  },
  {
   "cell_type": "code",
   "execution_count": null,
   "metadata": {},
   "outputs": [],
   "source": []
  }
 ],
 "metadata": {
  "kernelspec": {
   "display_name": ".NET (C#)",
   "language": "C#",
   "name": ".net-csharp"
  },
  "language_info": {
   "file_extension": ".cs",
   "mimetype": "text/x-csharp",
   "name": "C#",
   "pygments_lexer": "csharp",
   "version": "8.0"
  }
 },
 "nbformat": 4,
 "nbformat_minor": 4
}
