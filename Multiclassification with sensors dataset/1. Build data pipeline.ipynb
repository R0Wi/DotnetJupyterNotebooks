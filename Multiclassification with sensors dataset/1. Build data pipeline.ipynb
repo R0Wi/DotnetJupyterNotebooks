{
 "cells": [
  {
   "cell_type": "markdown",
   "metadata": {},
   "source": [
    "# Sensors"
   ]
  },
  {
   "cell_type": "markdown",
   "metadata": {},
   "source": [
    "### Install packages"
   ]
  },
  {
   "cell_type": "code",
   "execution_count": 1,
   "metadata": {
    "scrolled": true
   },
   "outputs": [
    {
     "data": {
      "text/html": [
       "Installing package Microsoft.ML, version 1.4.0........."
      ]
     },
     "metadata": {},
     "output_type": "display_data"
    }
   ],
   "source": [
    "#r \"nuget:Microsoft.ML,1.4.0\"\n",
    "using XPlot.Plotly;\n",
    "using System;\n",
    "using System.Linq;\n",
    "using Microsoft.ML;\n",
    "using Microsoft.ML.Data;"
   ]
  },
  {
   "cell_type": "markdown",
   "metadata": {},
   "source": [
    "### Declare data models"
   ]
  },
  {
   "cell_type": "code",
   "execution_count": 2,
   "metadata": {},
   "outputs": [],
   "source": [
    "public class ModelInput\n",
    "{\n",
    "    [ColumnName(\"Temperature\"), LoadColumn(0)]\n",
    "    public float Temperature { get; set; }\n",
    "\n",
    "    [ColumnName(\"Luminosity\"), LoadColumn(1)]\n",
    "    public float Luminosity { get; set; }\n",
    "\n",
    "    [ColumnName(\"Infrared\"), LoadColumn(2)]\n",
    "    public float Infrared { get; set; }\n",
    "\n",
    "    [ColumnName(\"Distance\"), LoadColumn(3)]\n",
    "    public float Distance { get; set; }\n",
    "\n",
    "    [ColumnName(\"CreatedAt\"), LoadColumn(4)]\n",
    "    public string CreatedAt { get; set; }\n",
    "\n",
    "    [ColumnName(\"Label\"), LoadColumn(5)]\n",
    "    public string Source { get; set; }\n",
    "}\n",
    "\n",
    "public class ModelOutput\n",
    "{\n",
    "    [ColumnName(\"PredictedLabel\")]\n",
    "    public string PredictedLabel;\n",
    "\n",
    "    [ColumnName(\"Score\")]\n",
    "    public float[] Score;\n",
    "}"
   ]
  },
  {
   "cell_type": "markdown",
   "metadata": {},
   "source": [
    "### Instantiate the ML context"
   ]
  },
  {
   "cell_type": "code",
   "execution_count": 3,
   "metadata": {},
   "outputs": [],
   "source": [
    "private static readonly MLContext mlContext = new MLContext(2020);"
   ]
  },
  {
   "cell_type": "markdown",
   "metadata": {},
   "source": [
    "### Load data"
   ]
  },
  {
   "cell_type": "code",
   "execution_count": 4,
   "metadata": {},
   "outputs": [],
   "source": [
    "private const string DATASET_PATH = \"./sensors_data.csv\";\n",
    "IDataView data = mlContext.Data.LoadFromTextFile<ModelInput>(\n",
    "    path: DATASET_PATH,\n",
    "    hasHeader: true,\n",
    "    separatorChar: ',');"
   ]
  },
  {
   "cell_type": "markdown",
   "metadata": {},
   "source": [
    "### Shuffle and split data to train and test by a fraction of 0.2"
   ]
  },
  {
   "cell_type": "code",
   "execution_count": 5,
   "metadata": {},
   "outputs": [],
   "source": [
    "var shuffledData = mlContext.Data.ShuffleRows(data, seed: 2020);\n",
    "var split = mlContext.Data.TrainTestSplit(shuffledData, testFraction: 0.2);\n",
    "var trainingData = split.TrainSet;\n",
    "var testingData = split.TestSet;"
   ]
  },
  {
   "cell_type": "code",
   "execution_count": 6,
   "metadata": {},
   "outputs": [
    {
     "data": {
      "text/html": [
       "<table><thead><tr><th><i>index</i></th><th>Temperature</th><th>Luminosity</th><th>Infrared</th><th>Distance</th><th>CreatedAt</th><th>Source</th></tr></thead><tbody><tr><td>0</td><td>32.18</td><td>6.84</td><td>0</td><td>28.69</td><td>01/03/2020 10:31:27</td><td>Day</td></tr><tr><td>1</td><td>115</td><td>100</td><td>43.85</td><td>195.19</td><td>01/03/2020 10:26:04</td><td>Lighter</td></tr><tr><td>2</td><td>30.89</td><td>73.44</td><td>0</td><td>24.32</td><td>01/03/2020 10:33:01</td><td>FlashLight</td></tr><tr><td>3</td><td>81.48</td><td>100</td><td>93.46</td><td>400</td><td>01/03/2020 10:27:54</td><td>Lighter</td></tr><tr><td>4</td><td>32.18</td><td>6.64</td><td>0</td><td>76.97</td><td>01/03/2020 10:31:06</td><td>Day</td></tr><tr><td>5</td><td>24.28</td><td>14.45</td><td>0</td><td>17.49</td><td>01/03/2020 10:23:42</td><td>FlashLight</td></tr><tr><td>6</td><td>27.34</td><td>70.02</td><td>0</td><td>193.76</td><td>01/03/2020 10:25:27</td><td>FlashLight</td></tr><tr><td>7</td><td>23.48</td><td>87.6</td><td>0</td><td>343.57</td><td>01/03/2020 10:22:23</td><td>FlashLight</td></tr><tr><td>8</td><td>34.11</td><td>100</td><td>92.38</td><td>7.16</td><td>01/03/2020 10:28:07</td><td>Lighter</td></tr><tr><td>9</td><td>31.86</td><td>57.52</td><td>0</td><td>400</td><td>01/03/2020 10:33:25</td><td>FlashLight</td></tr></tbody></table>"
      ]
     },
     "metadata": {},
     "output_type": "display_data"
    }
   ],
   "source": [
    "var features = mlContext.Data.CreateEnumerable<ModelInput>(trainingData, true);\n",
    "display(features.Take(10)); // be carefull here not to display the entire dataset"
   ]
  },
  {
   "cell_type": "markdown",
   "metadata": {},
   "source": [
    "### Categories"
   ]
  },
  {
   "cell_type": "code",
   "execution_count": 7,
   "metadata": {},
   "outputs": [
    {
     "data": {
      "text/html": [
       "<div id=\"271fe283-86ff-456f-81e9-f06a5316a383\" style=\"width: 900px; height: 500px;\"></div>\r\n",
       "<script type=\"text/javascript\">\r\n",
       "\r\n",
       "var renderPlotly = function() {\r\n",
       "    var xplotRequire = requirejs.config({context:'xplot-3.0.1',paths:{plotly:'https://cdn.plot.ly/plotly-1.49.2.min'}});\r\n",
       "    xplotRequire(['plotly'], function(Plotly) {\r\n",
       "\n",
       "            var data = [{\"type\":\"histogram\",\"x\":[\"Day\",\"Lighter\",\"FlashLight\",\"Lighter\",\"Day\",\"FlashLight\",\"FlashLight\",\"FlashLight\",\"Lighter\",\"FlashLight\",\"Infrared\",\"Day\",\"Lighter\",\"Infrared\",\"Day\",\"Day\",\"Lighter\",\"Lighter\",\"FlashLight\",\"Lighter\",\"FlashLight\",\"FlashLight\",\"FlashLight\",\"FlashLight\",\"Day\",\"Infrared\",\"Lighter\",\"Lighter\",\"Day\",\"Lighter\",\"Lighter\",\"Lighter\",\"Infrared\",\"FlashLight\",\"FlashLight\",\"Infrared\",\"Day\",\"FlashLight\",\"Infrared\",\"FlashLight\",\"Lighter\",\"FlashLight\",\"Day\",\"FlashLight\",\"FlashLight\",\"FlashLight\",\"FlashLight\",\"Infrared\",\"FlashLight\",\"Lighter\",\"Infrared\",\"Day\",\"FlashLight\",\"Day\",\"Day\",\"Lighter\",\"Day\",\"Infrared\",\"Infrared\",\"Infrared\",\"FlashLight\",\"Day\",\"FlashLight\",\"Infrared\",\"FlashLight\",\"Infrared\",\"FlashLight\",\"Lighter\",\"Day\",\"Infrared\",\"Infrared\",\"Infrared\",\"FlashLight\",\"Day\",\"Day\",\"Day\",\"Day\",\"FlashLight\",\"Day\",\"FlashLight\",\"Day\",\"FlashLight\",\"Day\",\"FlashLight\",\"FlashLight\",\"FlashLight\",\"FlashLight\",\"Day\",\"Day\",\"FlashLight\",\"Day\",\"Infrared\",\"FlashLight\",\"FlashLight\",\"Infrared\",\"FlashLight\",\"Infrared\",\"Day\",\"FlashLight\",\"Day\",\"Day\",\"FlashLight\",\"FlashLight\",\"FlashLight\",\"Lighter\",\"Day\",\"FlashLight\",\"Day\",\"Day\",\"Day\",\"Day\",\"Lighter\",\"Day\",\"Day\",\"Day\",\"FlashLight\",\"Day\",\"FlashLight\",\"Day\",\"FlashLight\",\"Infrared\",\"Day\",\"Day\",\"Day\",\"FlashLight\",\"FlashLight\",\"Day\",\"Infrared\",\"FlashLight\",\"Day\",\"Day\",\"FlashLight\",\"Lighter\",\"Infrared\",\"Infrared\",\"Infrared\",\"FlashLight\",\"Lighter\",\"Day\",\"FlashLight\",\"FlashLight\",\"Day\",\"Day\",\"Day\",\"FlashLight\",\"Infrared\",\"FlashLight\",\"Day\",\"FlashLight\",\"FlashLight\",\"Lighter\",\"FlashLight\",\"Infrared\",\"Infrared\",\"Lighter\",\"Infrared\",\"Lighter\",\"FlashLight\",\"Infrared\",\"Day\",\"FlashLight\",\"FlashLight\",\"Lighter\",\"FlashLight\",\"Day\",\"Infrared\",\"Day\",\"Infrared\",\"Day\",\"Day\",\"FlashLight\",\"FlashLight\",\"FlashLight\",\"Day\",\"Lighter\",\"Infrared\",\"FlashLight\",\"Infrared\",\"FlashLight\",\"Lighter\",\"Lighter\",\"FlashLight\",\"Day\",\"FlashLight\",\"Day\",\"FlashLight\",\"Lighter\",\"Day\",\"FlashLight\",\"Infrared\",\"FlashLight\",\"Lighter\",\"Day\",\"FlashLight\",\"FlashLight\",\"Day\",\"Lighter\",\"FlashLight\",\"Day\",\"FlashLight\",\"Infrared\",\"Day\",\"Day\",\"Lighter\",\"FlashLight\",\"Day\",\"Lighter\",\"FlashLight\",\"Infrared\",\"Lighter\",\"FlashLight\",\"FlashLight\",\"FlashLight\",\"FlashLight\",\"Lighter\",\"Infrared\",\"Day\",\"FlashLight\",\"Infrared\",\"FlashLight\",\"FlashLight\",\"Day\",\"Lighter\",\"Infrared\",\"Day\",\"Infrared\",\"Day\",\"Lighter\",\"Infrared\",\"Infrared\",\"Day\",\"Lighter\",\"Lighter\",\"Day\",\"Day\",\"FlashLight\",\"Day\",\"FlashLight\",\"Day\",\"Day\",\"Day\",\"Day\",\"Infrared\",\"Lighter\",\"Day\",\"FlashLight\",\"FlashLight\",\"Lighter\",\"Infrared\",\"Infrared\",\"FlashLight\",\"Lighter\",\"FlashLight\",\"Infrared\",\"FlashLight\",\"Lighter\",\"FlashLight\",\"FlashLight\",\"Day\",\"Lighter\",\"Day\",\"Infrared\",\"FlashLight\",\"FlashLight\",\"FlashLight\",\"Day\",\"FlashLight\",\"Lighter\",\"FlashLight\",\"FlashLight\",\"FlashLight\",\"Day\",\"Infrared\",\"Infrared\",\"Infrared\",\"Lighter\",\"FlashLight\",\"FlashLight\",\"FlashLight\",\"Lighter\",\"Infrared\",\"Day\",\"Infrared\",\"Day\",\"FlashLight\",\"Infrared\",\"Day\",\"Infrared\",\"FlashLight\",\"Day\",\"Day\",\"Lighter\",\"Day\",\"FlashLight\",\"Day\",\"Day\",\"FlashLight\",\"Infrared\",\"FlashLight\",\"Day\",\"Infrared\",\"FlashLight\",\"Infrared\",\"FlashLight\",\"Lighter\",\"Day\",\"Infrared\",\"Lighter\",\"Day\",\"FlashLight\",\"FlashLight\",\"Day\",\"FlashLight\",\"FlashLight\",\"Day\",\"Day\",\"Day\",\"Day\",\"FlashLight\",\"Day\",\"Infrared\",\"Lighter\",\"Day\",\"Lighter\",\"Infrared\",\"Lighter\",\"Infrared\",\"Lighter\",\"Infrared\",\"Infrared\",\"FlashLight\",\"Infrared\",\"Infrared\",\"FlashLight\",\"Day\",\"Day\",\"FlashLight\",\"FlashLight\",\"FlashLight\",\"FlashLight\",\"Infrared\",\"Lighter\",\"Lighter\",\"Day\",\"Infrared\",\"Day\",\"FlashLight\",\"Day\",\"Day\",\"Day\",\"Lighter\",\"FlashLight\",\"FlashLight\",\"FlashLight\",\"Day\",\"FlashLight\",\"Infrared\",\"FlashLight\",\"FlashLight\",\"Infrared\",\"FlashLight\",\"Infrared\",\"FlashLight\",\"Lighter\",\"FlashLight\",\"Day\",\"Infrared\",\"FlashLight\",\"Infrared\",\"FlashLight\",\"FlashLight\",\"Day\",\"Infrared\",\"FlashLight\",\"FlashLight\",\"Day\",\"FlashLight\",\"FlashLight\",\"Day\",\"FlashLight\",\"Lighter\",\"Day\",\"Infrared\",\"FlashLight\",\"FlashLight\",\"FlashLight\",\"Day\",\"FlashLight\",\"Day\",\"Day\",\"Day\",\"Lighter\",\"FlashLight\",\"FlashLight\",\"FlashLight\",\"Lighter\",\"Day\",\"Day\",\"Day\",\"Day\",\"Lighter\",\"Day\",\"Day\",\"Day\",\"Infrared\",\"Lighter\",\"Infrared\",\"FlashLight\",\"FlashLight\",\"Lighter\",\"FlashLight\",\"Day\",\"FlashLight\",\"Infrared\",\"Day\",\"Lighter\",\"FlashLight\",\"Lighter\",\"Lighter\",\"Lighter\",\"FlashLight\",\"FlashLight\",\"Infrared\",\"FlashLight\",\"FlashLight\",\"Day\",\"Infrared\",\"FlashLight\",\"Day\",\"FlashLight\",\"Infrared\",\"Infrared\",\"Infrared\",\"Lighter\",\"FlashLight\",\"Day\",\"Day\",\"FlashLight\",\"FlashLight\",\"FlashLight\",\"FlashLight\",\"Day\",\"Day\",\"Lighter\",\"FlashLight\",\"FlashLight\",\"Day\",\"Day\",\"FlashLight\",\"Infrared\",\"Infrared\",\"Day\",\"FlashLight\",\"Lighter\",\"Day\",\"FlashLight\",\"FlashLight\",\"FlashLight\",\"FlashLight\",\"FlashLight\",\"Infrared\",\"FlashLight\",\"Day\",\"Lighter\",\"Day\",\"Day\",\"Lighter\",\"FlashLight\",\"Infrared\",\"Lighter\",\"FlashLight\",\"Lighter\",\"Day\",\"Infrared\",\"Infrared\",\"Infrared\",\"Day\",\"FlashLight\",\"Lighter\",\"Lighter\",\"FlashLight\",\"FlashLight\",\"Lighter\",\"Day\",\"Infrared\",\"Infrared\",\"Day\",\"Infrared\",\"Infrared\",\"FlashLight\",\"Infrared\",\"FlashLight\",\"Day\",\"FlashLight\",\"Infrared\",\"Lighter\",\"Day\",\"Lighter\",\"FlashLight\",\"Infrared\",\"FlashLight\",\"Day\",\"FlashLight\",\"Lighter\",\"FlashLight\",\"FlashLight\",\"Day\",\"FlashLight\",\"Lighter\",\"FlashLight\",\"Lighter\",\"FlashLight\",\"Lighter\",\"Day\",\"Day\",\"Lighter\",\"FlashLight\",\"FlashLight\",\"Infrared\",\"Day\",\"FlashLight\",\"FlashLight\",\"FlashLight\",\"Infrared\",\"Infrared\",\"FlashLight\",\"Day\",\"Lighter\",\"Day\",\"Infrared\",\"FlashLight\",\"Day\",\"FlashLight\",\"Day\",\"Lighter\",\"Lighter\",\"Infrared\",\"FlashLight\",\"FlashLight\",\"FlashLight\",\"FlashLight\",\"Day\",\"Infrared\",\"Day\",\"Day\",\"FlashLight\",\"Day\",\"FlashLight\",\"Day\",\"FlashLight\",\"FlashLight\",\"Day\",\"FlashLight\",\"Day\",\"Infrared\",\"Infrared\",\"FlashLight\",\"Day\",\"Day\",\"Infrared\",\"Infrared\",\"Lighter\",\"Lighter\",\"Day\",\"Infrared\",\"FlashLight\",\"FlashLight\",\"Day\",\"Day\",\"FlashLight\",\"FlashLight\",\"FlashLight\",\"Infrared\",\"FlashLight\",\"FlashLight\",\"FlashLight\",\"Infrared\",\"Infrared\",\"Day\",\"FlashLight\",\"Day\",\"Infrared\",\"Lighter\",\"FlashLight\",\"FlashLight\",\"Lighter\",\"FlashLight\",\"Day\",\"Infrared\",\"Lighter\",\"FlashLight\",\"FlashLight\",\"Day\",\"FlashLight\",\"Day\",\"FlashLight\",\"FlashLight\",\"FlashLight\",\"Infrared\",\"FlashLight\",\"Day\",\"FlashLight\",\"FlashLight\",\"Lighter\",\"FlashLight\",\"FlashLight\",\"Lighter\",\"FlashLight\",\"FlashLight\",\"Lighter\",\"Infrared\",\"Infrared\",\"Infrared\",\"Day\",\"FlashLight\",\"Day\",\"Lighter\",\"Day\",\"FlashLight\",\"Day\",\"Lighter\",\"Lighter\",\"Lighter\",\"Day\",\"FlashLight\",\"Infrared\",\"FlashLight\",\"FlashLight\",\"Infrared\",\"Day\",\"Day\",\"Lighter\",\"FlashLight\",\"Day\",\"Day\",\"FlashLight\",\"Day\",\"Day\",\"FlashLight\",\"Lighter\",\"FlashLight\",\"Day\",\"FlashLight\",\"Day\",\"Lighter\",\"FlashLight\",\"Day\",\"FlashLight\",\"Infrared\",\"Lighter\",\"Day\",\"Day\",\"Infrared\"]}];\n",
       "            var layout = \"\";\n",
       "            Plotly.newPlot('271fe283-86ff-456f-81e9-f06a5316a383', data, layout);\n",
       "        \r\n",
       "});\r\n",
       "};\r\n",
       "if ((typeof(requirejs) !==  typeof(Function)) || (typeof(requirejs.config) !== typeof(Function))) { \r\n",
       "    var script = document.createElement(\"script\"); \r\n",
       "    script.setAttribute(\"src\", \"https://cdnjs.cloudflare.com/ajax/libs/require.js/2.3.6/require.min.js\"); \r\n",
       "    script.onload = function(){\r\n",
       "        renderPlotly();\r\n",
       "    };\r\n",
       "    document.getElementsByTagName(\"head\")[0].appendChild(script); \r\n",
       "}\r\n",
       "else {\r\n",
       "    renderPlotly();\r\n",
       "}\r\n",
       "</script>\r\n"
      ]
     },
     "metadata": {},
     "output_type": "display_data"
    }
   ],
   "source": [
    "var categories = trainingData.GetColumn<string>(\"Label\");\n",
    "var categoriesHistogram = Chart.Plot(\n",
    "    new Graph.Histogram \n",
    "    {\n",
    "        x = categories\n",
    "    }\n",
    ");\n",
    "display(categoriesHistogram);"
   ]
  },
  {
   "cell_type": "markdown",
   "metadata": {},
   "source": [
    "### Plot diagram"
   ]
  },
  {
   "cell_type": "code",
   "execution_count": 8,
   "metadata": {},
   "outputs": [
    {
     "data": {
      "text/html": [
       "<div id=\"7befc698-3cd0-4043-8849-56e456624b16\" style=\"width: 900px; height: 500px;\"></div>\r\n",
       "<script type=\"text/javascript\">\r\n",
       "\r\n",
       "var renderPlotly = function() {\r\n",
       "    var xplotRequire = requirejs.config({context:'xplot-3.0.1',paths:{plotly:'https://cdn.plot.ly/plotly-1.49.2.min'}});\r\n",
       "    xplotRequire(['plotly'], function(Plotly) {\r\n",
       "\n",
       "            var data = [{\"type\":\"box\",\"y\":[32.18,115.0,30.89,81.48,32.18,24.28,27.34,23.48,34.11,31.86,30.24,32.18,53.12,32.18,24.63,23.63,33.47,32.18,32.5,36.04,27.34,52.8,24.44,23.8,32.18,29.92,37.98,94.05,32.18,74.72,43.13,108.55,30.89,30.89,32.5,30.24,25.41,23.48,30.24,32.5,61.5,32.5,32.18,31.21,31.21,32.18,32.5,26.38,27.34,36.69,30.24,24.44,31.86,32.18,25.41,32.5,24.77,26.7,26.38,24.31,23.96,23.96,23.28,25.09,32.18,32.18,32.5,115.0,24.77,25.41,32.5,32.18,32.18,25.09,32.18,24.44,24.63,31.21,25.09,27.67,25.41,32.5,24.86,23.96,31.86,31.21,24.44,23.63,25.09,32.18,24.44,30.24,31.86,32.18,30.24,32.5,25.89,25.63,23.28,25.09,25.41,24.44,27.34,32.18,50.55,32.18,27.34,32.18,24.77,25.09,25.09,87.29,32.18,24.82,24.44,32.5,32.18,24.12,25.09,31.21,30.57,32.18,25.09,25.09,41.2,32.5,32.18,25.89,32.5,24.44,32.18,24.14,36.69,32.18,32.18,26.38,25.14,33.14,24.63,34.43,24.77,32.18,24.12,24.77,31.53,25.09,32.5,32.18,23.8,30.89,64.38,27.67,30.24,32.18,88.9,32.18,92.12,31.86,32.5,25.09,32.5,32.18,66.98,24.14,32.18,32.5,25.09,32.5,32.18,24.63,31.21,27.34,27.34,25.09,70.85,25.09,31.21,30.24,32.5,47.32,65.05,31.53,24.44,27.67,32.18,67.63,35.4,25.09,24.44,30.24,32.18,101.79,32.18,24.12,24.77,24.77,50.87,32.5,32.18,32.18,30.24,32.18,32.18,97.28,32.5,25.09,42.81,32.18,30.24,76.65,32.18,32.18,32.5,32.18,38.95,31.21,32.18,32.5,32.5,24.44,24.14,32.18,119.51,32.18,24.77,26.38,24.63,37.01,30.24,25.09,32.18,47.97,81.81,32.5,24.44,24.44,25.09,32.18,24.44,32.18,25.09,25.09,30.24,32.5,24.44,31.21,32.18,58.6,30.24,32.18,27.67,100.82,23.48,30.24,23.28,35.08,52.8,28.96,24.77,34.11,32.18,25.41,32.18,31.86,32.5,25.09,27.67,49.26,31.86,23.96,32.18,24.44,30.24,24.77,30.24,69.56,31.86,32.18,31.21,110.49,24.38,32.18,32.18,24.5,34.43,32.5,24.77,25.89,23.28,32.18,32.18,85.67,32.5,27.34,32.18,32.18,28.63,32.5,32.5,25.09,25.09,24.44,25.41,24.44,56.03,32.18,30.24,44.75,25.09,31.86,24.77,25.09,24.92,32.18,24.44,25.09,25.09,25.09,23.28,24.44,26.38,64.05,25.09,36.04,25.09,90.19,32.5,73.11,32.18,25.89,24.31,25.21,30.24,27.67,25.41,32.18,24.14,27.34,23.28,32.5,26.38,32.82,56.03,32.5,29.6,32.18,34.11,32.18,25.09,25.09,35.08,36.37,27.34,27.67,32.18,31.53,25.09,31.21,32.82,29.92,32.18,30.24,23.28,55.7,23.28,32.18,32.18,27.67,32.18,23.48,24.12,32.18,29.92,31.53,24.77,24.63,32.5,32.5,32.18,32.5,102.43,32.18,25.89,23.48,32.5,27.67,32.18,31.86,32.18,32.18,32.18,89.22,32.5,24.77,23.48,34.43,32.18,32.18,24.63,25.09,24.28,25.09,24.12,24.44,30.24,33.47,26.38,23.48,24.77,47.32,32.5,24.77,31.21,30.24,32.18,36.37,31.86,88.9,90.83,132.4,24.77,33.14,25.41,23.28,24.77,24.6,30.24,32.5,32.18,27.99,32.18,32.5,25.09,64.05,23.48,32.18,32.18,27.34,31.86,32.18,32.5,32.18,25.09,157.22,31.86,32.18,23.63,25.09,27.67,32.18,32.18,32.18,32.5,74.07,32.18,27.34,23.8,32.5,32.5,24.77,32.18,32.5,32.18,109.2,32.5,32.18,48.94,32.5,29.92,36.37,23.8,36.04,25.09,30.24,29.92,30.24,32.18,32.5,36.37,96.31,27.67,31.86,89.54,32.18,32.18,32.5,24.77,32.18,29.92,23.96,30.24,46.68,34.76,32.5,32.18,132.4,32.18,35.4,27.34,30.24,56.99,24.77,32.18,64.05,24.12,24.44,25.09,27.67,82.77,25.82,95.34,23.48,36.37,25.09,24.77,64.92,27.34,32.5,32.18,24.44,27.67,32.18,32.5,30.24,25.09,27.34,25.09,32.18,24.44,32.18,32.5,24.44,23.28,32.18,36.69,99.53,30.24,31.53,24.14,23.28,27.34,25.09,25.41,32.18,32.18,34.11,24.77,32.18,24.44,27.34,27.34,32.18,32.5,24.77,30.24,26.38,27.34,24.44,24.77,30.24,30.24,153.35,107.59,32.18,30.89,27.34,24.82,25.09,32.18,31.86,32.5,31.21,25.09,32.18,32.82,24.12,29.92,30.89,24.44,32.5,31.86,29.92,65.37,32.5,32.5,45.07,31.86,32.18,32.18,52.16,27.34,27.34,24.77,32.5,24.44,32.18,34.11,31.86,32.5,32.18,32.18,32.5,27.34,25.57,24.14,23.28,61.83,32.5,24.14,36.37,24.38,30.24,32.5,32.18,31.86,23.63,64.96,24.44,24.28,32.18,95.02,53.77,96.63,25.09,32.18,25.09,24.77,27.34,30.24,24.44,24.44,34.43,31.21,24.77,32.18,32.5,32.18,24.44,32.18,98.24,32.18,25.63,32.5,24.63,86.96,24.12,23.63,32.5,30.24,98.24,25.09,25.09,24.77],\"name\":\"Temperature\"},{\"type\":\"box\",\"y\":[6.84,100.0,73.44,100.0,6.64,14.45,70.02,87.6,100.0,57.52,11.13,4.39,100.0,29.79,5.37,4.2,100.0,100.0,100.0,100.0,71.88,100.0,100.0,66.41,7.32,30.08,100.0,100.0,5.08,100.0,100.0,100.0,24.41,74.41,50.78,41.31,11.91,79.0,41.7,95.31,100.0,72.75,6.15,56.64,5.47,41.6,61.33,21.09,74.32,100.0,31.64,12.6,68.46,5.86,9.28,100.0,12.5,19.14,21.97,18.75,10.64,4.1,100.0,35.16,37.11,17.19,64.84,100.0,8.2,35.06,12.6,12.5,54.39,12.21,14.55,25.78,4.1,42.58,12.3,75.59,11.43,54.39,7.03,9.08,53.61,74.9,82.32,4.1,12.89,52.05,26.46,29.3,85.06,64.16,18.65,85.84,25.59,4.1,61.62,12.6,11.33,63.18,73.54,32.23,100.0,5.37,73.83,4.98,13.48,12.4,12.01,100.0,5.86,6.54,25.88,54.79,6.64,79.49,11.91,60.16,25.78,6.15,12.79,12.11,100.0,60.55,4.39,24.9,85.84,25.98,6.05,50.29,100.0,35.35,15.04,22.75,49.32,100.0,4.1,100.0,87.11,4.3,24.9,14.06,86.72,35.94,73.14,4.39,88.67,52.44,100.0,75.0,31.64,11.72,100.0,24.9,100.0,100.0,28.81,11.91,60.64,55.86,100.0,100.0,6.05,34.47,12.99,37.89,4.88,4.1,69.14,75.29,71.48,12.21,100.0,35.45,33.89,26.56,91.41,100.0,100.0,68.07,25.49,73.63,5.27,100.0,100.0,11.91,83.5,23.83,46.19,100.0,19.73,81.54,63.96,10.74,100.0,88.38,6.35,17.68,32.71,4.98,4.1,100.0,72.07,12.01,100.0,57.81,27.05,100.0,68.46,78.91,69.24,65.72,100.0,36.33,5.37,88.28,19.34,95.61,62.4,5.27,100.0,31.74,25.59,21.0,4.0,100.0,20.51,35.74,6.54,100.0,100.0,4.49,25.39,80.27,13.18,50.0,25.88,4.49,12.11,12.4,24.32,100.0,26.46,63.77,72.66,100.0,33.59,32.23,71.78,100.0,93.16,35.94,39.94,100.0,100.0,6.54,12.3,100.0,4.49,35.06,100.0,49.12,57.03,12.11,75.59,100.0,60.16,7.71,42.58,25.78,21.97,36.62,29.2,100.0,45.12,100.0,34.67,100.0,19.73,6.84,35.64,8.11,100.0,22.75,25.59,34.18,54.1,6.25,4.49,100.0,4.59,73.34,7.62,4.69,74.9,31.54,56.93,11.91,35.45,67.58,36.52,89.55,100.0,4.39,29.69,88.77,13.09,100.0,89.26,12.5,45.7,61.13,25.98,11.33,11.82,12.3,66.5,25.49,23.44,82.32,12.11,100.0,35.94,100.0,27.44,100.0,30.96,24.51,37.99,33.69,28.52,75.0,11.82,6.25,40.82,73.73,57.32,75.78,18.36,100.0,100.0,19.43,10.06,5.66,100.0,25.1,12.4,12.11,100.0,100.0,70.7,73.05,4.3,71.58,35.74,32.42,64.55,20.61,42.97,10.25,55.57,100.0,45.51,5.08,48.54,73.05,38.96,92.77,54.79,6.25,14.36,59.86,82.13,4.1,76.76,48.83,6.54,56.74,100.0,5.18,27.83,83.69,43.65,73.24,6.64,68.75,4.2,7.03,4.88,100.0,54.88,83.3,84.67,100.0,6.64,4.79,4.2,10.94,100.0,12.01,25.88,24.41,31.35,100.0,21.58,83.59,69.14,100.0,85.84,13.96,48.83,27.34,54.3,100.0,65.82,100.0,100.0,100.0,64.06,100.0,36.52,9.08,60.94,6.05,11.72,59.57,4.69,74.51,35.94,25.0,34.86,66.8,90.33,5.76,5.96,70.02,29.39,50.29,100.0,4.39,12.3,100.0,48.54,95.02,4.3,12.3,71.78,27.05,29.59,4.59,74.41,100.0,5.86,71.97,61.91,72.07,72.27,86.23,22.85,90.04,4.98,100.0,5.96,18.16,100.0,34.67,30.18,100.0,65.62,100.0,11.04,26.17,33.01,46.29,5.96,82.81,100.0,100.0,76.17,66.8,100.0,5.18,12.89,52.83,17.48,32.23,35.06,8.98,41.89,100.0,9.47,70.7,30.08,100.0,11.04,100.0,71.97,32.81,100.0,12.6,69.53,97.46,69.14,84.77,11.82,76.17,100.0,48.05,100.0,84.77,100.0,12.11,18.55,100.0,74.61,54.69,18.46,25.39,73.24,58.2,79.79,30.96,35.84,70.7,12.11,100.0,24.41,27.25,100.0,25.98,86.91,4.98,100.0,100.0,11.52,71.09,50.1,60.25,73.73,11.91,36.52,5.76,4.69,82.81,11.91,55.37,26.56,75.78,73.63,4.49,100.0,12.5,55.57,18.07,70.31,25.49,11.82,64.16,33.89,100.0,100.0,6.64,26.86,72.27,50.49,12.01,4.1,27.93,86.33,70.7,35.84,100.0,89.06,84.77,30.08,26.76,26.46,52.83,4.2,27.44,100.0,94.14,60.64,100.0,60.06,5.57,38.67,100.0,74.02,72.95,11.43,79.69,25.88,78.81,100.0,56.35,50.88,33.11,5.37,85.16,73.34,100.0,100.0,69.04,100.0,100.0,42.87,100.0,18.26,44.53,28.52,6.74,83.69,4.1,100.0,25.68,6.35,4.79,100.0,100.0,100.0,12.6,39.55,34.86,64.06,69.82,34.77,26.46,12.4,100.0,55.08,12.5,6.25,36.82,5.08,11.72,52.64,100.0,58.2,4.2,63.96,4.2,100.0,100.0,4.1,53.52,58.69,100.0,12.11,12.3,36.62],\"name\":\"Luminosity\"},{\"type\":\"box\",\"y\":[0.0,43.85,0.0,93.46,0.0,0.0,0.0,0.0,92.38,0.0,49.02,0.0,93.95,49.61,0.0,0.0,92.58,95.31,0.0,67.09,0.0,0.0,0.0,0.0,0.0,26.95,94.53,49.71,0.0,95.02,92.97,93.16,93.75,0.0,0.0,13.87,0.0,0.0,93.65,0.0,95.21,0.0,0.0,0.0,0.0,0.0,0.0,94.34,0.0,95.41,0.1,0.0,0.0,0.0,0.0,93.36,0.0,93.36,72.27,0.0,0.0,0.0,0.0,95.31,0.0,28.71,0.0,43.85,0.0,95.12,76.46,18.75,0.0,0.0,0.0,0.0,0.0,0.0,0.0,0.0,0.0,0.0,0.0,0.0,0.0,0.0,0.0,0.0,0.0,0.0,0.0,60.55,0.0,0.0,36.72,0.0,94.63,0.0,0.0,0.0,0.0,0.0,0.0,0.0,91.21,0.0,0.0,0.0,0.0,0.0,0.0,93.85,0.0,0.0,0.0,0.0,0.0,0.0,0.0,0.0,29.3,0.0,0.0,0.0,0.0,0.0,0.0,77.83,0.0,0.0,0.0,0.0,92.58,30.86,68.55,93.55,0.0,95.21,0.0,0.0,0.0,0.0,0.0,0.0,0.0,94.92,0.0,0.0,0.0,0.0,96.48,0.0,42.19,19.43,42.38,37.5,94.43,0.0,8.98,0.0,0.0,0.0,93.07,0.0,0.0,92.38,0.0,71.09,0.0,0.0,0.0,0.0,0.0,0.0,95.31,94.92,0.0,23.24,0.0,95.31,92.97,0.0,0.0,0.0,0.0,0.0,92.68,0.0,0.0,27.44,0.0,45.9,0.0,0.0,0.0,0.0,95.12,0.0,0.0,0.0,12.11,0.0,0.0,93.26,0.0,0.0,93.26,0.0,33.2,95.31,0.0,0.0,0.0,0.0,95.12,14.94,0.0,0.0,91.31,0.0,0.0,0.0,95.8,43.75,0.0,51.56,0.0,94.53,31.84,95.12,0.0,93.26,93.65,0.0,0.0,0.0,0.0,0.0,0.0,0.0,0.0,0.0,30.57,95.21,0.0,0.0,0.0,95.21,36.82,46.09,0.0,95.61,0.0,11.72,0.0,93.55,0.0,0.0,0.0,94.43,0.0,95.12,0.0,0.0,0.0,0.0,0.0,95.02,0.0,0.0,0.0,0.0,91.8,95.41,21.88,94.63,0.0,0.0,0.0,5.02,95.21,0.0,26.95,0.0,0.0,89.94,0.0,95.51,0.0,0.0,0.0,92.38,0.0,0.0,0.0,0.0,0.0,81.64,0.0,0.0,94.92,0.0,95.21,0.0,95.31,0.0,46.88,94.92,0.0,0.0,0.0,0.0,0.0,0.0,0.0,0.0,0.0,0.0,0.0,0.0,93.95,95.21,0.0,91.89,94.92,95.41,33.69,93.46,48.63,93.75,0.0,94.63,25.68,0.0,0.0,0.0,0.0,0.0,0.0,0.0,11.72,95.02,92.29,0.0,26.17,0.0,0.0,0.0,0.0,0.0,94.04,0.0,0.0,0.0,0.0,0.0,95.02,0.0,0.0,32.32,0.0,49.12,0.0,94.92,0.0,0.0,26.37,0.0,16.31,0.0,0.0,0.0,43.16,0.0,0.0,0.0,0.0,0.0,0.0,0.0,93.65,0.0,93.07,0.0,0.0,0.0,0.0,0.0,0.0,0.0,0.0,93.07,0.0,0.0,0.0,94.43,0.0,0.0,0.0,0.0,95.9,0.0,0.0,0.0,32.32,95.41,70.51,0.0,0.0,94.34,0.0,0.0,0.0,35.84,0.0,93.16,0.0,95.41,93.65,41.31,0.0,0.0,95.41,0.0,0.0,0.0,15.53,0.0,0.0,0.0,86.04,33.89,94.92,86.72,0.0,0.0,0.0,0.0,0.0,0.0,0.0,0.0,0.0,94.53,0.0,0.0,0.0,0.0,0.0,93.55,43.85,0.0,0.0,94.34,0.0,0.0,0.0,0.0,0.0,0.0,93.65,0.0,0.0,4.92,0.0,0.0,93.26,0.0,26.07,94.92,0.0,92.77,0.0,46.29,34.28,25.68,0.0,0.0,93.55,91.41,0.0,0.0,95.31,0.0,41.31,21.78,0.0,30.86,2.93,0.0,12.5,0.0,0.0,0.0,49.22,41.31,0.0,95.31,0.0,22.56,0.0,0.0,0.0,96.0,0.0,0.0,0.0,0.0,94.14,0.0,94.73,0.0,95.12,0.0,0.0,96.09,0.0,0.0,93.55,0.0,0.0,0.0,0.0,38.18,95.41,0.0,0.0,94.53,0.0,94.04,0.0,0.0,0.0,0.0,95.21,42.97,1.95,0.0,0.0,0.0,0.0,0.0,95.41,0.0,0.0,0.0,0.0,0.0,0.0,0.0,0.0,0.0,0.0,0.0,50.68,25.0,0.0,0.0,0.0,85.45,23.24,94.82,3.46,0.0,94.24,0.0,0.0,0.0,0.0,0.0,0.0,0.0,95.41,0.0,0.0,0.0,31.93,94.14,0.0,0.0,0.0,24.22,93.16,0.0,0.0,95.41,0.0,0.0,20.61,94.53,0.0,0.0,0.0,0.0,0.0,0.0,0.0,0.0,57.81,0.0,0.0,0.0,0.0,96.48,0.0,0.0,91.02,0.0,0.0,94.92,94.04,27.73,43.85,0.0,0.0,0.0,95.7,0.0,0.0,0.0,42.38,95.21,45.9,0.0,0.0,94.92,0.0,0.0,0.0,0.0,0.0,93.95,0.0,0.0,0.0,0.0,0.0,0.0,0.0,94.34,0.0,0.0,0.0,0.0,39.26,0.0,0.0,0.0,92.97,50.68,0.0,0.0,95.41],\"name\":\"Infrared\"},{\"type\":\"box\",\"y\":[28.69,195.19,24.32,400.0,76.97,17.49,193.76,343.57,7.16,400.0,61.88,63.57,400.0,61.57,156.23,155.3,8.4,42.94,400.0,6.76,192.26,56.12,10.78,290.37,29.68,400.0,400.0,193.64,68.01,400.0,72.25,400.0,20.09,400.0,400.0,400.0,13.28,399.53,400.0,400.0,7.1,348.63,400.0,400.0,60.47,61.0,22.83,152.74,194.3,400.0,400.0,89.11,60.77,400.0,93.85,400.0,82.07,154.04,152.37,153.61,154.98,154.09,6.39,194.23,49.91,60.36,400.0,195.19,70.65,193.43,53.76,59.74,400.0,96.35,400.0,193.69,153.67,19.6,88.66,193.34,400.0,59.16,400.0,154.89,60.21,20.44,400.0,154.09,88.66,50.82,193.73,400.0,25.27,64.48,60.04,66.43,19.84,153.6,10.37,400.0,14.38,366.22,193.84,31.24,400.0,34.96,194.31,73.51,90.42,400.0,71.82,154.46,77.67,400.0,193.78,59.11,75.12,317.08,400.0,60.46,57.5,74.23,88.81,400.0,59.4,63.72,400.0,400.0,400.0,194.66,78.93,8.52,70.73,400.0,59.97,154.04,9.84,400.0,155.35,400.0,68.15,67.65,193.25,97.01,400.0,193.4,64.25,76.43,325.6,24.33,154.99,194.69,400.0,19.16,193.35,400.0,154.87,20.1,56.18,77.33,400.0,400.0,400.0,7.48,74.18,56.79,97.13,400.0,400.0,400.0,400.0,193.44,193.37,91.58,153.62,193.33,400.0,60.46,66.28,5.85,400.0,59.49,193.73,193.39,66.38,49.92,69.76,76.89,68.91,59.15,50.02,194.48,400.0,37.69,242.96,6.13,400.0,400.0,400.0,59.21,400.0,28.04,66.13,400.0,66.73,90.06,5.8,61.76,400.0,41.3,28.33,400.0,65.89,400.0,400.0,58.61,34.18,60.42,400.0,69.64,8.8,400.0,345.43,400.0,195.03,400.0,154.5,400.0,400.0,193.72,82.61,46.13,60.81,51.67,194.58,400.0,400.0,43.43,193.78,400.0,400.0,400.0,59.85,400.0,193.75,400.0,400.0,400.0,400.0,56.59,194.28,45.92,73.86,62.67,155.79,400.0,57.4,18.78,79.42,44.79,74.86,193.43,400.0,400.0,400.0,82.12,193.34,56.17,28.38,155.39,58.1,194.62,60.46,194.16,57.16,7.91,400.0,16.5,400.0,5.73,21.85,400.0,400.0,400.0,61.46,56.2,195.03,400.0,156.99,76.22,75.33,40.68,400.0,193.83,400.0,75.87,193.44,400.0,400.0,83.96,193.33,366.69,193.32,68.42,400.0,75.51,400.0,400.0,400.0,400.0,67.07,400.0,6.45,400.0,194.64,93.64,400.0,86.1,11.26,193.75,5.11,400.0,400.0,400.0,193.4,400.0,400.0,345.92,60.05,18.08,154.1,19.56,57.68,194.69,14.01,400.0,8.79,125.81,9.62,400.0,400.0,400.0,400.0,49.02,57.48,75.56,400.0,400.0,400.0,400.0,400.0,400.0,153.31,193.34,70.24,400.0,193.76,23.01,54.29,59.7,400.0,57.06,156.15,42.46,12.08,78.02,54.62,193.34,55.94,73.64,321.3,400.0,60.86,25.22,66.19,154.51,65.67,400.0,78.08,35.34,4.19,76.24,19.04,63.88,15.9,193.4,75.72,27.28,71.72,400.0,24.53,400.0,400.0,64.68,95.86,44.04,65.42,400.0,154.91,82.69,152.3,79.72,195.05,193.72,60.4,400.0,153.16,394.32,322.63,41.55,62.4,89.89,60.7,60.11,52.13,46.56,400.0,400.0,152.82,195.23,301.72,55.43,194.03,14.8,78.83,154.49,400.0,21.35,400.0,182.04,57.69,56.2,193.4,5.12,11.61,400.0,70.36,193.76,60.21,400.0,65.28,66.49,96.48,60.76,61.12,400.0,154.9,400.0,194.28,60.14,400.0,72.21,57.95,400.0,400.0,170.5,400.0,64.47,66.87,66.11,61.23,64.47,75.65,4.28,400.0,107.1,7.56,49.57,400.0,46.4,13.86,7.91,400.0,57.48,17.91,400.0,70.74,55.49,7.52,9.47,194.3,400.0,400.0,72.81,59.06,400.0,400.0,57.72,19.5,154.51,57.2,400.0,70.31,400.0,400.0,195.23,400.0,400.0,170.5,400.0,51.01,91.63,61.2,155.75,350.8,66.15,77.05,194.3,6.25,9.85,7.9,399.49,59.09,400.0,400.0,400.0,146.28,58.89,400.0,194.58,193.4,61.42,64.22,57.5,194.55,153.31,73.87,7.96,193.72,400.0,400.0,194.66,6.14,19.46,69.47,237.28,54.18,400.0,9.42,10.11,125.81,83.75,194.03,78.88,65.37,53.59,400.0,63.61,193.75,193.93,129.92,400.0,56.06,60.24,400.0,5.06,194.26,194.64,400.0,60.02,61.67,400.0,4.28,61.62,400.0,194.25,8.84,79.96,67.74,25.62,400.0,400.0,194.55,57.64,54.26,67.14,60.96,400.0,193.75,400.0,67.0,400.0,59.14,49.1,66.07,400.0,61.42,400.0,59.0,400.0,194.3,195.93,88.91,65.26,193.79,19.25,400.0,61.91,52.51,400.0,400.0,66.31,193.83,152.28,7.13,10.39,400.0,400.0,6.79,42.18,154.89,58.95,52.37,400.0,22.42,154.13,153.66,194.61,154.08,89.66,194.23,400.0,193.11,89.71,56.85,193.4,71.52,194.2,400.0,193.73,400.0,400.0,64.37,400.0,400.0,23.36,75.81,400.0,59.05,153.63,20.8,154.49,64.98,153.65,193.34,364.7,156.16,400.0,59.69,196.29,400.0,400.0,194.16],\"name\":\"Distance\"}];\n",
       "            var layout = \"\";\n",
       "            Plotly.newPlot('7befc698-3cd0-4043-8849-56e456624b16', data, layout);\n",
       "        \r\n",
       "});\r\n",
       "};\r\n",
       "if ((typeof(requirejs) !==  typeof(Function)) || (typeof(requirejs.config) !== typeof(Function))) { \r\n",
       "    var script = document.createElement(\"script\"); \r\n",
       "    script.setAttribute(\"src\", \"https://cdnjs.cloudflare.com/ajax/libs/require.js/2.3.6/require.min.js\"); \r\n",
       "    script.onload = function(){\r\n",
       "        renderPlotly();\r\n",
       "    };\r\n",
       "    document.getElementsByTagName(\"head\")[0].appendChild(script); \r\n",
       "}\r\n",
       "else {\r\n",
       "    renderPlotly();\r\n",
       "}\r\n",
       "</script>\r\n"
      ]
     },
     "metadata": {},
     "output_type": "display_data"
    }
   ],
   "source": [
    "var featuresTemperatures = features.Select(f => f.Temperature);\n",
    "var featuresLuminosities = features.Select(f => f.Luminosity);\n",
    "var featuresInfrareds = features.Select(f => f.Infrared);\n",
    "var featuresDistances = features.Select(f => f.Distance);\n",
    "\n",
    "var categoriesDiagram = Chart.Plot(new[] {\n",
    "    new Graph.Box { y = featuresTemperatures, name = \"Temperature\" },\n",
    "    new Graph.Box { y = featuresLuminosities, name = \"Luminosity\" },\n",
    "    new Graph.Box { y = featuresInfrareds, name = \"Infrared\" },\n",
    "    new Graph.Box { y = featuresDistances, name = \"Distance\" }\n",
    "});\n",
    "display(categoriesDiagram);"
   ]
  },
  {
   "cell_type": "code",
   "execution_count": 9,
   "metadata": {},
   "outputs": [
    {
     "data": {
      "text/html": [
       "Installing package Microsoft.ML, version 1.4.0........."
      ]
     },
     "metadata": {},
     "output_type": "display_data"
    },
    {
     "data": {
      "text/html": [
       "Installed package MathNet.Numerics version 4.9.0"
      ]
     },
     "metadata": {},
     "output_type": "display_data"
    }
   ],
   "source": [
    "#r \"nuget:MathNet.Numerics, 4.9.0\"\n",
    "using MathNet.Numerics.Statistics;"
   ]
  },
  {
   "cell_type": "code",
   "execution_count": 10,
   "metadata": {},
   "outputs": [
    {
     "data": {
      "text/html": [
       "<div id=\"116a6229-cb9a-4f9d-9893-11dce44cf89d\" style=\"width: 900px; height: 500px;\"></div>\r\n",
       "<script type=\"text/javascript\">\r\n",
       "\r\n",
       "var renderPlotly = function() {\r\n",
       "    var xplotRequire = requirejs.config({context:'xplot-3.0.1',paths:{plotly:'https://cdn.plot.ly/plotly-1.49.2.min'}});\r\n",
       "    xplotRequire(['plotly'], function(Plotly) {\r\n",
       "\n",
       "            var data = [{\"type\":\"heatmap\",\"z\":[[0.036158477361297466,0.4354071431482964,0.48000243066820975,1.0],[0.029878884187506376,0.3562947906820931,1.0,0.48000243066820975],[0.06815627835335349,1.0,0.3562947906820931,0.4354071431482964],[1.0,0.06815627835335349,0.029878884187506376,0.036158477361297466]],\"x\":[\"Temperature\",\"Luminosity\",\"Infrared\",\"Distance\"],\"y\":[\"Distance\",\"Infrared\",\"Luminosity\",\"Temperature\"],\"zmin\":-1.0,\"zmax\":1.0}];\n",
       "            var layout = \"\";\n",
       "            Plotly.newPlot('116a6229-cb9a-4f9d-9893-11dce44cf89d', data, layout);\n",
       "        \r\n",
       "});\r\n",
       "};\r\n",
       "if ((typeof(requirejs) !==  typeof(Function)) || (typeof(requirejs.config) !== typeof(Function))) { \r\n",
       "    var script = document.createElement(\"script\"); \r\n",
       "    script.setAttribute(\"src\", \"https://cdnjs.cloudflare.com/ajax/libs/require.js/2.3.6/require.min.js\"); \r\n",
       "    script.onload = function(){\r\n",
       "        renderPlotly();\r\n",
       "    };\r\n",
       "    document.getElementsByTagName(\"head\")[0].appendChild(script); \r\n",
       "}\r\n",
       "else {\r\n",
       "    renderPlotly();\r\n",
       "}\r\n",
       "</script>\r\n"
      ]
     },
     "metadata": {},
     "output_type": "display_data"
    }
   ],
   "source": [
    "var featureColumns = new string[] { \"Temperature\", \"Luminosity\", \"Infrared\", \"Distance\" };\n",
    "\n",
    "var correlationMatrix = new List<List<double>>();\n",
    "correlationMatrix.Add(featuresTemperatures.Select(x => (double)x).ToList());\n",
    "correlationMatrix.Add(featuresLuminosities.Select(x => (double)x).ToList());\n",
    "correlationMatrix.Add(featuresInfrareds.Select(x => (double)x).ToList());\n",
    "correlationMatrix.Add(featuresDistances.Select(x => (double)x).ToList());\n",
    "\n",
    "var length = featureColumns.Length;\n",
    "\n",
    "var z = new double[length, length];\n",
    "for (int x = 0; x < length; ++x)\n",
    "{\n",
    "    for (int y = 0; y < length - 1 - x; ++y)\n",
    "    {\n",
    "        var seriesA = correlationMatrix[x];\n",
    "        var seriesB = correlationMatrix[length - 1 - y];\n",
    "\n",
    "        var value = Correlation.Pearson(seriesA, seriesB);\n",
    "\n",
    "        z[x, y] = value;\n",
    "        z[length - 1 - y, length - 1 - x] = value;\n",
    "    }\n",
    "\n",
    "    z[x, length - 1 - x] = 1;\n",
    "}\n",
    "\n",
    "var correlationMatrixHeatmap = Chart.Plot(\n",
    "    new Graph.Heatmap \n",
    "    {\n",
    "        x = featureColumns,\n",
    "        y = featureColumns.Reverse(),\n",
    "        z = z,\n",
    "        zmin = -1,\n",
    "        zmax = 1\n",
    "    }\n",
    ");\n",
    "display(correlationMatrixHeatmap);"
   ]
  },
  {
   "cell_type": "markdown",
   "metadata": {},
   "source": [
    "### Concatenate features"
   ]
  },
  {
   "cell_type": "code",
   "execution_count": 11,
   "metadata": {},
   "outputs": [],
   "source": [
    "var preprocessingPipeline = mlContext.Transforms.Conversion.MapValueToKey(\"Label\")\n",
    "    .Append(mlContext.Transforms.Concatenate(\"Features\", featureColumns))\n",
    "    .Append(mlContext.Transforms.NormalizeMinMax(\"Features\", \"Features\"));"
   ]
  },
  {
   "cell_type": "code",
   "execution_count": null,
   "metadata": {},
   "outputs": [],
   "source": []
  }
 ],
 "metadata": {
  "kernelspec": {
   "display_name": ".NET (C#)",
   "language": "C#",
   "name": ".net-csharp"
  },
  "language_info": {
   "file_extension": ".cs",
   "mimetype": "text/x-csharp",
   "name": "C#",
   "pygments_lexer": "csharp",
   "version": "8.0"
  }
 },
 "nbformat": 4,
 "nbformat_minor": 4
}
